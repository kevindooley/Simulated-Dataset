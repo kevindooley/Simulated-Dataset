{
 "cells": [
  {
   "cell_type": "markdown",
   "metadata": {},
   "source": [
    "## Programming for Data Analysis Project 2019\n",
    "#### By Kevin Dooley"
   ]
  },
  {
   "cell_type": "markdown",
   "metadata": {},
   "source": [
    "### Simulation of Real World Phenonenom - Penalty Points in Ireland"
   ]
  },
  {
   "cell_type": "markdown",
   "metadata": {},
   "source": [
    "Foundation of Project and Real life Statistics\n",
    "\n",
    "#### Background\n",
    "The penalty points system for driving offences was introduced in Ireland with the aim to improve driver behaviour and reduce the levels of death and serious injury on our roads. A penalty point is a formal reprimand by the Gardai on your driving license record that shows you are guilty of specific driving offences. There are a total of 63 road offences that can attract penalty points.\n",
    "\n",
    "By obtaining penalty points on your license you recieve a fine and depending on the road offence, may be required to appear in court. It is a requirement to notify your insurance company of any road traffic offences also at which stage your insurance company may opt to increase the drivers premium. All these are hefty consequences in place for motorists who do not abide by the rules of the road. Penalty points while are there to try improve the saftey on our roads.\n",
    "[(3. Penalty Points Background)](https://www.rsa.ie/en/RSA/Licensed-Drivers/Penalty-points/How-it-works-why-it-matters/)\n",
    "\n",
    "#### How does the system work\n",
    "Penalty Points are recorded on your licesne if you are convicted of a driving offence. Each offence carries a different point value depening on the severity of the offence. Any driver accumulating 12 penalty points within any given three-year period will be automatically disqualified from driving for six months. A lower threshold of 7 penalty points leading to disqualification applies to any driver on a learner permit. [(3. Penalty Points Background)](https://www.rsa.ie/en/RSA/Licensed-Drivers/Penalty-points/How-it-works-why-it-matters/)\n",
    "\n",
    "#### Improve Irish Roads Strategy\n",
    "Ireland’s road safety record has continually improved over the past number of years. There was a 16% decrease in the number of fatal accidents in Ireland in 2017 compared to 2016, of which penalty points played an important role. The penalty points system has played an important role in this by incentivising drivers to modify their behaviour and drive more safely. The penalty point is used in conjuction with the 'Closing the Gap' Strategy to make Ireland’s roads as safe as the best performing countries in the world.\n",
    "While the penalty points system has proved to have been an effective deterrent in changing road users’ behaviour for the better over the past decade. It must be consistently reviewed and updated to ensure it is an effective system and established mitigations against new driver behaviour. [(5. Road Stategies)](https://www.rsa.ie/en/RSA/Licensed-Drivers/Penalty-points/StrategyRegulations/)\n",
    "\n",
    "Tthe penalty points system plays an important role in road safety by incentivising drivers to modify their behaviour and drive more safely."
   ]
  },
  {
   "cell_type": "markdown",
   "metadata": {},
   "source": [
    "This project is to simulate a real world phenonenom and complete a summary on it.\n",
    "\n",
    "I am choosing : Instances of penalty point endorsement notices in ireland in 2018. I will examine 4 variables\n",
    "* Gender (Male/Female)\n",
    "* Age (17-85)\n",
    "* Location (Leinster, Munster, Ulster, Connacht)\n",
    "* Cause of Penalty Points (Speeding, Mobile Phone Use, Drink Driving, No seatbelt)\n",
    "* Total Points on License in 2018\n",
    "\n",
    "Defining what each variable in the dataset:\n",
    "1. Gender - nominal\n",
    "2. Age - continuous numerical variable\n",
    "3. Location of Accident - nominal\n",
    "4. Cause of Penalty Points - nominal\n",
    "5. Total points on license - discrete numerical variable\n",
    "\n",
    "The reason I have selected the above variables is because I feel there is substantial information avaialble to base my workings off. Car accidents are unfortunately common in Ireland and can be affected by any number of factors. The issuance of penalties points by government regulated bodies such as An Garda Siochana given an insight to how obedient we are to the roads. Even though the information I will be providing throughout this dataset is randomly simulated, I will be referencing real life instances and statistics.\n",
    "\n",
    "As per the above I have categorised each of my variables. Based off my research, I classified 'Age' as a continuous numerical variable because it contains numerous values within a given range. I decided to define  3 variables as nominal variables because it does not matter which way the categories are ordered, whhether it be in tabular or graphical displays - all orderings are equally meaningful.[(1. Variable Categories)](http://www-ist.massey.ac.nz/dstirlin/CAST/CAST/Hstructures/structures_c2.html).\n",
    "\n",
    "\n",
    "As per the requirements of the assignment, the dataset must include a minimum of 100 datapoints. To do this I used the numpy.random package in numpy. [(2. Numpy.random)](https://docs.scipy.org/doc/numpy-1.14.0/reference/routines.random.html). I will use this package to randomly generate a dataset to represent the number of penalty points issued in Ireland in 2018, 159000. In total, just over 189000 points were issued but in 30000 cases the gender was not recorded. After completing my research I decided to only use 1000 datapoints and use them as a representation of the 159000. I still applied the same model but just a smaller sample size as this was my first simulation and I felt it would cleaner to follow. The age range for the dataset which will be 17 to 65 because you cannot drive until you are 17 in Ireland and there minimal data on drivers over the age of 65 in Ireland. Gender, area of issuance of the penalty points and cause of issuance will all be examined in this simulation."
   ]
  },
  {
   "cell_type": "markdown",
   "metadata": {},
   "source": [
    "Majority of statistics taken off the CSO website for penalty points for 2018. Used different numpy.random functions to simulate the data based off real life numbers from the CSO. [(6. CSO Statistics)](https://www.cso.ie/en/releasesandpublications/ep/p-tranom/transportomnibus2018/penaltypoints/)"
   ]
  },
  {
   "cell_type": "code",
   "execution_count": 1,
   "metadata": {},
   "outputs": [],
   "source": [
    "import pandas as pd #imports Pandas library \n",
    "import numpy as np #imports NumPy package\n",
    "import seaborn as sns #imports Seaborn package\n",
    "import matplotlib.pyplot as plt #imports Matplotlib library"
   ]
  },
  {
   "cell_type": "markdown",
   "metadata": {},
   "source": [
    "The aim of this project is to simulate a real-life phenomena, and do to this the numpy.random package will be used. This package was used to generate random numbers to define the age variable between 17-65. \n",
    "\n",
    "![](age.png)\n",
    "Figure above indicates people aged 30-40 years of age recieved the most penalty poinst the past 10 years. (Source: Statista 2017)\n",
    "Reasearch has shown that on average the the age group of 30-40 has recieved the highest number of penalty points. It is slightly surprising that young drivers are on the lower end of the spectrum as there is such media attention on young male drivers in particular being erratic and dangerous on roads.\n",
    "\n",
    "![](age1.png)\n",
    "(Source: CSO 2018)\n",
    "\n",
    "The distribution for the age variable is normal/gaussian distribution. As the mean is in the 30-40 range and either side of that range the number of penalty points recieved decreases which represents the standard deviation. I used the numpy.trianguar to create this variable. Numpy.trianuglar is commonly used in simulating datasets because it is posible to shape the distribution of the data using this function. I entered in the min, mean and max. I was able to simulate data that resembles that of the real world event. Both in the simulation and real world, the age variable would be of normal distribution."
   ]
  },
  {
   "cell_type": "code",
   "execution_count": 2,
   "metadata": {},
   "outputs": [
    {
     "data": {
      "image/png": "[encoded data removed]",
      "text/plain": [
       "<Figure size 720x504 with 1 Axes>"
      ]
     },
     "metadata": {
      "needs_background": "light"
     },
     "output_type": "display_data"
    }
   ],
   "source": [
    "# for reproducability so can test simulation\n",
    "age = np.random.triangular(17, 36, 65, 1001).round(0) # lower, mean, higher parameters of data, round to nearest whole number\n",
    "# you can set the shape of the distribution using random.triangular\n",
    "# based of review of CSO, I determined approx mean age for most penalty points was 45 years old\n",
    "plt.figure(figsize = (10, 7)) #plot size\n",
    "plt.xlabel(\"Age (years)\") # x label\n",
    "plt.ylabel(\"Number of people\") # y label\n",
    "plt.title(\"Penalty points distribution between age groups\") # title\n",
    "plt.hist(age, density=True, bins=10) # histogram\n",
    "plt.show() # display plot"
   ]
  },
  {
   "cell_type": "code",
   "execution_count": 3,
   "metadata": {},
   "outputs": [
    {
     "data": {
      "text/plain": [
       "39.0"
      ]
     },
     "execution_count": 3,
     "metadata": {},
     "output_type": "execute_result"
    }
   ],
   "source": [
    "np.mean(age).round() #average age is between the expected 30-40 range"
   ]
  },
  {
   "cell_type": "code",
   "execution_count": 4,
   "metadata": {},
   "outputs": [
    {
     "data": {
      "text/html": [
       "<div>\n",
       "<style scoped>\n",
       "    .dataframe tbody tr th:only-of-type {\n",
       "        vertical-align: middle;\n",
       "    }\n",
       "\n",
       "    .dataframe tbody tr th {\n",
       "        vertical-align: top;\n",
       "    }\n",
       "\n",
       "    .dataframe thead th {\n",
       "        text-align: right;\n",
       "    }\n",
       "</style>\n",
       "<table border=\"1\" class=\"dataframe\">\n",
       "  <thead>\n",
       "    <tr style=\"text-align: right;\">\n",
       "      <th></th>\n",
       "      <th>Age</th>\n",
       "    </tr>\n",
       "  </thead>\n",
       "  <tbody>\n",
       "    <tr>\n",
       "      <th>0</th>\n",
       "      <td>45.0</td>\n",
       "    </tr>\n",
       "    <tr>\n",
       "      <th>1</th>\n",
       "      <td>44.0</td>\n",
       "    </tr>\n",
       "    <tr>\n",
       "      <th>2</th>\n",
       "      <td>42.0</td>\n",
       "    </tr>\n",
       "    <tr>\n",
       "      <th>3</th>\n",
       "      <td>29.0</td>\n",
       "    </tr>\n",
       "    <tr>\n",
       "      <th>4</th>\n",
       "      <td>53.0</td>\n",
       "    </tr>\n",
       "    <tr>\n",
       "      <th>5</th>\n",
       "      <td>39.0</td>\n",
       "    </tr>\n",
       "    <tr>\n",
       "      <th>6</th>\n",
       "      <td>39.0</td>\n",
       "    </tr>\n",
       "    <tr>\n",
       "      <th>7</th>\n",
       "      <td>36.0</td>\n",
       "    </tr>\n",
       "    <tr>\n",
       "      <th>8</th>\n",
       "      <td>58.0</td>\n",
       "    </tr>\n",
       "    <tr>\n",
       "      <th>9</th>\n",
       "      <td>34.0</td>\n",
       "    </tr>\n",
       "    <tr>\n",
       "      <th>10</th>\n",
       "      <td>29.0</td>\n",
       "    </tr>\n",
       "    <tr>\n",
       "      <th>11</th>\n",
       "      <td>23.0</td>\n",
       "    </tr>\n",
       "    <tr>\n",
       "      <th>12</th>\n",
       "      <td>51.0</td>\n",
       "    </tr>\n",
       "    <tr>\n",
       "      <th>13</th>\n",
       "      <td>25.0</td>\n",
       "    </tr>\n",
       "    <tr>\n",
       "      <th>14</th>\n",
       "      <td>52.0</td>\n",
       "    </tr>\n",
       "    <tr>\n",
       "      <th>15</th>\n",
       "      <td>28.0</td>\n",
       "    </tr>\n",
       "    <tr>\n",
       "      <th>16</th>\n",
       "      <td>41.0</td>\n",
       "    </tr>\n",
       "    <tr>\n",
       "      <th>17</th>\n",
       "      <td>54.0</td>\n",
       "    </tr>\n",
       "    <tr>\n",
       "      <th>18</th>\n",
       "      <td>36.0</td>\n",
       "    </tr>\n",
       "    <tr>\n",
       "      <th>19</th>\n",
       "      <td>38.0</td>\n",
       "    </tr>\n",
       "    <tr>\n",
       "      <th>20</th>\n",
       "      <td>41.0</td>\n",
       "    </tr>\n",
       "    <tr>\n",
       "      <th>21</th>\n",
       "      <td>30.0</td>\n",
       "    </tr>\n",
       "    <tr>\n",
       "      <th>22</th>\n",
       "      <td>23.0</td>\n",
       "    </tr>\n",
       "    <tr>\n",
       "      <th>23</th>\n",
       "      <td>45.0</td>\n",
       "    </tr>\n",
       "    <tr>\n",
       "      <th>24</th>\n",
       "      <td>30.0</td>\n",
       "    </tr>\n",
       "    <tr>\n",
       "      <th>25</th>\n",
       "      <td>38.0</td>\n",
       "    </tr>\n",
       "    <tr>\n",
       "      <th>26</th>\n",
       "      <td>36.0</td>\n",
       "    </tr>\n",
       "    <tr>\n",
       "      <th>27</th>\n",
       "      <td>43.0</td>\n",
       "    </tr>\n",
       "    <tr>\n",
       "      <th>28</th>\n",
       "      <td>34.0</td>\n",
       "    </tr>\n",
       "    <tr>\n",
       "      <th>29</th>\n",
       "      <td>44.0</td>\n",
       "    </tr>\n",
       "    <tr>\n",
       "      <th>...</th>\n",
       "      <td>...</td>\n",
       "    </tr>\n",
       "    <tr>\n",
       "      <th>971</th>\n",
       "      <td>59.0</td>\n",
       "    </tr>\n",
       "    <tr>\n",
       "      <th>972</th>\n",
       "      <td>27.0</td>\n",
       "    </tr>\n",
       "    <tr>\n",
       "      <th>973</th>\n",
       "      <td>49.0</td>\n",
       "    </tr>\n",
       "    <tr>\n",
       "      <th>974</th>\n",
       "      <td>52.0</td>\n",
       "    </tr>\n",
       "    <tr>\n",
       "      <th>975</th>\n",
       "      <td>40.0</td>\n",
       "    </tr>\n",
       "    <tr>\n",
       "      <th>976</th>\n",
       "      <td>36.0</td>\n",
       "    </tr>\n",
       "    <tr>\n",
       "      <th>977</th>\n",
       "      <td>35.0</td>\n",
       "    </tr>\n",
       "    <tr>\n",
       "      <th>978</th>\n",
       "      <td>40.0</td>\n",
       "    </tr>\n",
       "    <tr>\n",
       "      <th>979</th>\n",
       "      <td>28.0</td>\n",
       "    </tr>\n",
       "    <tr>\n",
       "      <th>980</th>\n",
       "      <td>56.0</td>\n",
       "    </tr>\n",
       "    <tr>\n",
       "      <th>981</th>\n",
       "      <td>63.0</td>\n",
       "    </tr>\n",
       "    <tr>\n",
       "      <th>982</th>\n",
       "      <td>22.0</td>\n",
       "    </tr>\n",
       "    <tr>\n",
       "      <th>983</th>\n",
       "      <td>28.0</td>\n",
       "    </tr>\n",
       "    <tr>\n",
       "      <th>984</th>\n",
       "      <td>54.0</td>\n",
       "    </tr>\n",
       "    <tr>\n",
       "      <th>985</th>\n",
       "      <td>30.0</td>\n",
       "    </tr>\n",
       "    <tr>\n",
       "      <th>986</th>\n",
       "      <td>39.0</td>\n",
       "    </tr>\n",
       "    <tr>\n",
       "      <th>987</th>\n",
       "      <td>26.0</td>\n",
       "    </tr>\n",
       "    <tr>\n",
       "      <th>988</th>\n",
       "      <td>59.0</td>\n",
       "    </tr>\n",
       "    <tr>\n",
       "      <th>989</th>\n",
       "      <td>33.0</td>\n",
       "    </tr>\n",
       "    <tr>\n",
       "      <th>990</th>\n",
       "      <td>37.0</td>\n",
       "    </tr>\n",
       "    <tr>\n",
       "      <th>991</th>\n",
       "      <td>40.0</td>\n",
       "    </tr>\n",
       "    <tr>\n",
       "      <th>992</th>\n",
       "      <td>60.0</td>\n",
       "    </tr>\n",
       "    <tr>\n",
       "      <th>993</th>\n",
       "      <td>37.0</td>\n",
       "    </tr>\n",
       "    <tr>\n",
       "      <th>994</th>\n",
       "      <td>44.0</td>\n",
       "    </tr>\n",
       "    <tr>\n",
       "      <th>995</th>\n",
       "      <td>41.0</td>\n",
       "    </tr>\n",
       "    <tr>\n",
       "      <th>996</th>\n",
       "      <td>39.0</td>\n",
       "    </tr>\n",
       "    <tr>\n",
       "      <th>997</th>\n",
       "      <td>25.0</td>\n",
       "    </tr>\n",
       "    <tr>\n",
       "      <th>998</th>\n",
       "      <td>46.0</td>\n",
       "    </tr>\n",
       "    <tr>\n",
       "      <th>999</th>\n",
       "      <td>42.0</td>\n",
       "    </tr>\n",
       "    <tr>\n",
       "      <th>1000</th>\n",
       "      <td>33.0</td>\n",
       "    </tr>\n",
       "  </tbody>\n",
       "</table>\n",
       "<p>1001 rows × 1 columns</p>\n",
       "</div>"
      ],
      "text/plain": [
       "       Age\n",
       "0     45.0\n",
       "1     44.0\n",
       "2     42.0\n",
       "3     29.0\n",
       "4     53.0\n",
       "5     39.0\n",
       "6     39.0\n",
       "7     36.0\n",
       "8     58.0\n",
       "9     34.0\n",
       "10    29.0\n",
       "11    23.0\n",
       "12    51.0\n",
       "13    25.0\n",
       "14    52.0\n",
       "15    28.0\n",
       "16    41.0\n",
       "17    54.0\n",
       "18    36.0\n",
       "19    38.0\n",
       "20    41.0\n",
       "21    30.0\n",
       "22    23.0\n",
       "23    45.0\n",
       "24    30.0\n",
       "25    38.0\n",
       "26    36.0\n",
       "27    43.0\n",
       "28    34.0\n",
       "29    44.0\n",
       "...    ...\n",
       "971   59.0\n",
       "972   27.0\n",
       "973   49.0\n",
       "974   52.0\n",
       "975   40.0\n",
       "976   36.0\n",
       "977   35.0\n",
       "978   40.0\n",
       "979   28.0\n",
       "980   56.0\n",
       "981   63.0\n",
       "982   22.0\n",
       "983   28.0\n",
       "984   54.0\n",
       "985   30.0\n",
       "986   39.0\n",
       "987   26.0\n",
       "988   59.0\n",
       "989   33.0\n",
       "990   37.0\n",
       "991   40.0\n",
       "992   60.0\n",
       "993   37.0\n",
       "994   44.0\n",
       "995   41.0\n",
       "996   39.0\n",
       "997   25.0\n",
       "998   46.0\n",
       "999   42.0\n",
       "1000  33.0\n",
       "\n",
       "[1001 rows x 1 columns]"
      ]
     },
     "execution_count": 4,
     "metadata": {},
     "output_type": "execute_result"
    }
   ],
   "source": [
    "df = pd.DataFrame({'Age':age.round(0)}) # creating dataframe using pandas\n",
    "#age will be the first variable\n",
    "#trial to see if it displays\n",
    "df"
   ]
  },
  {
   "cell_type": "markdown",
   "metadata": {},
   "source": [
    "Since the introduction of the penalty point system, males have dwarfed females in the number of penalty point notices recieved. Males have incurred twice as many penalty points since 2007 while getting 60% of all total penalty point notices. The numbers were particularly bad when the system was first implemented with males recieving 75% of the notices compared to females getting just 23%. Those gaps have gradually reduced mainly sue to the fact the males ahve recieved less points. [(13. Journel.ie)](https://www.thejournal.ie/men-women-penalty-points-ireland-3428314-Jun2017/)\n",
    "\n",
    "![](gender.png)\n",
    "(Source: Journel.ie, 2017)\n",
    "\n",
    "Even though historical data represents a wider gap between males and females, I decided to base this simulation off the 2018 statistics released by the CSO and RSA. I felt by using 2018 data, I could analyse the current trend in Ireland. As mention above, males no longer recieve twice as many notices but they did recieve appoximately 22% more than their female counterparts, which is a substantial figure.\n",
    "![](gender2018.png)\n",
    "(Source: CSO, 2018)"
   ]
  },
  {
   "cell_type": "markdown",
   "metadata": {},
   "source": [
    "To display the Gender variable, I discovered that the random.choice function would be perfect to define the male to female split as you can define the probabilities of each input. Without using the 'p' option, the function automatically returns a uniform distribution but in this case we did not want that. I refered back to my previous assisngment on the different packages in the numpy.random section which was very beneficial to deciding which random pack to select for each variable."
   ]
  },
  {
   "cell_type": "code",
   "execution_count": 5,
   "metadata": {},
   "outputs": [],
   "source": [
    "#male = 1, female = 2\n",
    "g = ([\"Male\", \"Female\"])\n",
    "#np.arange - choose number from 1 to 2 (higher number exclusive)\n",
    "#np.random.choice allows size of dataset and determine probability of each number in a\n",
    "gender = np.random.choice(g, size=1001, p=[0.66, 0.34]) #refer to reference 8"
   ]
  },
  {
   "cell_type": "code",
   "execution_count": 6,
   "metadata": {},
   "outputs": [
    {
     "data": {
      "image/png": "[encoded data removed]",
      "text/plain": [
       "<Figure size 720x504 with 1 Axes>"
      ]
     },
     "metadata": {
      "needs_background": "light"
     },
     "output_type": "display_data"
    }
   ],
   "source": [
    "plt.figure(figsize = (10, 7)) #plot size\n",
    "xlabel, number = np.unique(gender, return_counts=True) # adopted from stackoverflow post (reference 14)\n",
    "plt.bar(xlabel, number, align=\"center\", color=\"red\") # bar chart, align xtick to centre of bar, # adopted from stackoverflow post (reference 14)\n",
    "plt.xticks(g, (\"Male\", \"Female\")) # set male and female as labels\n",
    "plt.xlabel(\"Gender\") # x axis label\n",
    "plt.ylabel(\"Number of People\") # y axis label\n",
    "plt.title(\"Number of Males vs Female Penalty Point Notices\") # title\n",
    "plt.show() # display"
   ]
  },
  {
   "cell_type": "code",
   "execution_count": 7,
   "metadata": {},
   "outputs": [],
   "source": [
    "df = pd.DataFrame({'Gender':gender}) # 2nd variable for dataset"
   ]
  },
  {
   "cell_type": "markdown",
   "metadata": {},
   "source": [
    "### Location of Penalty Points"
   ]
  },
  {
   "cell_type": "markdown",
   "metadata": {},
   "source": [
    "In theory, penalty point distibution across Ireland could be uniform due to the fact all 4 provences have major cities. Leinster recieves the highest number of penalty point endorsements while Munster, Ulster and Connacht recieve a similar number. Commuter town surrouding the capital are the main contributors to the high number of penalty points in Leinster. [(15. Journal.ie)](https://www.thejournal.ie/penalty-point-rankings-3418643-Jun2017/)\n",
    "\n",
    "![](loaction.png)\n",
    "(Source: Journal.ie, 2017)\n",
    "\n",
    "Leinster has the highest amount of penalty points per head of population in the Country.\n",
    "![](location.png)\n",
    "(Source: CSO, 2018\n",
    "\n",
    "Based off the statistics covering 10 years worth of penalty pouiunt notices between 2007-2017, show that counties in more rural or isolated locations tend to have a lower likelihood that their residents will be on the penalty points register compared to those in commuter towns.\n",
    "The counties with the lowest number of notices per head are Donegal, Mayo, Kerry and Monaghan, of which parts of those counties are not near any major city in Ireland.\n",
    "\n",
    "![](location1.png)\n",
    "(Source: Journal.ie)"
   ]
  },
  {
   "cell_type": "code",
   "execution_count": 8,
   "metadata": {},
   "outputs": [],
   "source": [
    "#Munster = 1, Leinster = 2, ulster = 3, connachcht = 4\n",
    "#np.random.choice allows size of dataset and determine probability of each number in a\n",
    "province = ([\"Munster\", \"Leinster\", \"Ulster\", \"Connacht\"])\n",
    "location = np.random.choice(province, size=1001, p=[0.25, 0.4, 0.2, 0.15])"
   ]
  },
  {
   "cell_type": "code",
   "execution_count": 9,
   "metadata": {},
   "outputs": [
    {
     "data": {
      "image/png": "[encoded data removed]",
      "text/plain": [
       "<Figure size 720x504 with 1 Axes>"
      ]
     },
     "metadata": {
      "needs_background": "light"
     },
     "output_type": "display_data"
    }
   ],
   "source": [
    "plt.figure(figsize = (10, 7)) #plot size\n",
    "xlabel, number = np.unique(location, return_counts=True) # adopted from stackoverflow post (reference 14)\n",
    "plt.bar(xlabel, number, align=\"center\", color=\"skyblue\") # bar chart, align xtick to centre of bar, adopted from stackoverflow post (reference 14)\n",
    "plt.xticks(province, (\"Munster\", \"Leinster\", \"Ulster\", \"Connacht\")) # set province labels\n",
    "plt.xlabel(\"Location of Penalty Points\") # x axis label\n",
    "plt.ylabel(\"Number of Point Notices\") # y axis label\n",
    "plt.title(\"Breakdown of Geographies for Penalty Point Issuance\")\n",
    "plt.show() # display"
   ]
  },
  {
   "cell_type": "code",
   "execution_count": 10,
   "metadata": {},
   "outputs": [],
   "source": [
    "df = pd.DataFrame({'Location':location}) # 3rd variable for dataset"
   ]
  },
  {
   "cell_type": "markdown",
   "metadata": {},
   "source": [
    "### Reason for Penalty Point Notice\n",
    "\n",
    "Speeding the single biggest reason for the issuance of penalty points, obtaining over 63% of all points in 2018. This a slight reduction from 2017 in which it had nearly 68% of total penalty point notcies. These number are staggerly high and need to be reduced as speeding also contributes to the most car accidents in the country. [(6. CSO 2018)](https://www.cso.ie/en/releasesandpublications/ep/p-tranom/transportomnibus2018/penaltypoints/)\n",
    "\n",
    "The distribtion of penalty point notices in 2018 and 2017. Speeding is the highest contributor\n",
    "![](reason.png)\n",
    "(Source: CSO, 2018) \n",
    "\n",
    "Speeding is a epidemic in Ireland. A survey completed by the [(Journal.ie)](https://www.thejournal.ie/gardai-speeding-slow-down-4416832-Dec2018/) indicated that over 40% of people break the speed limit every time they drive while a further 19% said they break it weekly. These are not official statistics but the numbers are still very high. Nearly 3 quarters of people who took the poll said they break the speed limit weekly.\n",
    "![](poll.png)\n",
    "(Source: Journal.ie, 2018)\n",
    "\n",
    "A potential mitigation against speeding is to increase the amount of penalty points a driver recieves depending the speed the driver is going. According to Minister of Transport Shane Ross, Drivers caught speeding at between 20 and 30 km/h over the limit could get seven penalty points and a €200 fine. He said \"The current system is a flat rate, flat fine and it obviously isn’t deterring enough people, we’re having a large number, absolutely appalling number of people being killed as a result of speed\" and \"We have got to discourage and prevent and inhibit people speeding irresponsibly. The number of fines for speeding is absolutely enormous but we’ve got to bring down the deaths. That’s what’s wrong, too many people are being killed.” This is a potential option to be implemented to reduce the number of speeding accidents on our roads.[(17. Irish Times)](https://www.irishtimes.com/news/ireland/irish-news/motorists-speeding-up-to-30km-h-over-limit-may-face-7-penalty-points-1.3727587)\n"
   ]
  },
  {
   "cell_type": "code",
   "execution_count": 11,
   "metadata": {},
   "outputs": [],
   "source": [
    "#Speeding = 1, phone = 2,  no seat belt = 3, drink driving = 4, 5=no NCT, 6=dangerous driving\n",
    "cause = ([\"Speeding\", \"Phone Usage\", \"No Seat Belt\", \"Drink Driving\", \"No NCT\", \"Dangerous Driving\"]) # create list of causes\n",
    "#np.random.choice allows size of dataset and determine probability of each number in a\n",
    "reason = np.random.choice(cause, size=1001, p=[0.65, 0.15, 0.05, 0.03, 0.06, 0.06])"
   ]
  },
  {
   "cell_type": "code",
   "execution_count": 12,
   "metadata": {},
   "outputs": [
    {
     "data": {
      "image/png": "[encoded data removed]",
      "text/plain": [
       "<Figure size 720x504 with 1 Axes>"
      ]
     },
     "metadata": {
      "needs_background": "light"
     },
     "output_type": "display_data"
    }
   ],
   "source": [
    "plt.figure(figsize = (10, 7)) #plot size\n",
    "xlabel, number = np.unique(reason, return_counts=True) # adopted from stackoverflow post (reference 14)\n",
    "plt.bar(xlabel, number, align=\"center\") # bar chart, align xtick to centre of bar, adopted from stackoverflow post (reference 14)\n",
    "plt.xticks(cause, (\"Speeding\", \"Phone Usage\", \"No Seat Belt\", \"Drink Driving\", \"No NCT\", \"Dangerous Driving\"), rotation=\"vertical\") # set reason labels, set labels to vertical for better presentation\n",
    "plt.xlabel(\"Cause of Penalty Point Notice\") # x axis label\n",
    "plt.ylabel(\"Number of Point Notices\") # y axis label\n",
    "plt.title(\"Breakdown of different reasons drivers were issued with prnalty points\")\n",
    "plt.grid() # gridlines\n",
    "plt.show() # display"
   ]
  },
  {
   "cell_type": "code",
   "execution_count": 13,
   "metadata": {},
   "outputs": [],
   "source": [
    "df = pd.DataFrame({'Reason':reason}) # 4th variable for dataset"
   ]
  },
  {
   "cell_type": "markdown",
   "metadata": {},
   "source": [
    "### Points on License"
   ]
  },
  {
   "cell_type": "markdown",
   "metadata": {},
   "source": [
    "If you recieve 12 penalty points in any 3 year period you are automatically disqualified from driving for 6 months. [(18. Citizens Information)](https://www.citizensinformation.ie/en/travel_and_recreation/motoring_1/driving_offences/penalty_points_for_driving_offences.html)\n",
    "\n",
    "In 2018, a total of 798 people had 12 penalty points on their license meaning they recieved an automatic 6 month driving ban. According to CSO, 2018, most people had 3 penalty points on their license. \n",
    "![](points.png)\n",
    "(Source: CSO, 2018)\n",
    "\n",
    "There has been a significant increase in people losing their license from 2014 onwards. This is because in 2014, higher points were introduced for speeding, holding a phone and not wearing a seat belt. These three actions are among the highest reoccuring driving offences. In 2014, 251 drivers recieved a driving ban, that rose to 635 in 2016 and 798 in 2018. [(19. NUmber of Points of License)](https://www.irishtimes.com/life-and-style/motors/number-of-drivers-with-12-penalty-points-doubles-1.3011405)"
   ]
  },
  {
   "cell_type": "code",
   "execution_count": 26,
   "metadata": {},
   "outputs": [],
   "source": [
    "#np.arange - choose number from 1 to 4 (higher number exclusive)\n",
    "#np.random.choice allows size of dataset and determine probability of each number in a\n",
    "points = ([\"One\", \"Two\", \"Three\", \"Four\", \"Five\", \"Six\", \"Seven\", \"Eight\", \"Nine\", \"Ten\", \"Eleven\", \"Twelve\"])\n",
    "total_points = np.random.choice(points, size=1001, p=[0.01, 0.07, 0.65, 0.02, 0.08, 0.1, 0.01, 0.01, 0.02, 0.01, 0.01, 0.01])"
   ]
  },
  {
   "cell_type": "code",
   "execution_count": 29,
   "metadata": {},
   "outputs": [
    {
     "data": {
      "image/png": "[encoded data removed]",
      "text/plain": [
       "<Figure size 720x504 with 1 Axes>"
      ]
     },
     "metadata": {
      "needs_background": "light"
     },
     "output_type": "display_data"
    }
   ],
   "source": [
    "plt.figure(figsize = (10, 7)) #plot size\n",
    "xlabel, number = np.unique(total_points, return_counts=True) # adopted from stackoverflow post (reference 14)\n",
    "plt.bar(xlabel, number, align=\"center\") # bar chart, align xtick to centre of bar, adopted from stackoverflow post (reference 14)\n",
    "plt.xticks(points, (\"One\", \"Two\", \"Three\", \"Four\", \"Five\", \"Six\", \"Seven\", \"Eight\", \"Nine\", \"Ten\", \"Eleven\", \"Twelve\"), rotation=\"vertical\") # set point labels, set labels to vertical for better presentation\n",
    "plt.xlabel(\"Points on License\") # x axis label\n",
    "plt.ylabel(\"Number of People\") # y axis label\n",
    "plt.title(\"Breakdown of number of points on license\")\n",
    "plt.grid() # gridlines\n",
    "plt.show() # display"
   ]
  },
  {
   "cell_type": "code",
   "execution_count": 30,
   "metadata": {},
   "outputs": [],
   "source": [
    "df = pd.DataFrame({'Points':total_points}) # 4th variable for dataset"
   ]
  },
  {
   "cell_type": "markdown",
   "metadata": {},
   "source": [
    "### Accidents \n",
    "\n",
    "Car accidents whether minor or fatal are very serious and unfortunately a topic of high debate in Ireland. The number of fatal car crashes in Ireland is declining but it is still too high. 157 people lost their lives in 2017 and 149 in 2018. \n",
    "\n",
    "It is known that av average drive will be involved in at least 3 or 4 car accidents in their driving history. Most of these accidents do not result in fatalities but injuries and car damage are likely.\n",
    "If a driver becomes licnesed at 17, the oddsa re relatively high that they will be nvolved in a car accident of some type by the age of 34. While the odds of a fatal crash are minimal, minor crashes can still incolve personal injury and will most likely involve authorities and insurance companies. \n",
    "Young drivers under the age of 25 are far more likely to be involved in serious car accidents than older, more experienced drivers. Fatality rates among teens and young drivers are very high. All these risign costs are meaning drivers are claiming form insurances companies. Car insurance industry estimates show that the average driver will file a claim for a car accident about once every 17.9 years. That’s if the person is an average driver who obeys traffic laws and exercises good driving habits.\n",
    "\n",
    "BAsed on the data above, I can determine that the number of car accidetns a person will be involved in a lifetime follows normal distribution. With the mean approximately 3 and a standard deviation of about 2. I an use the numpy.random.standard_normal function but I will use the numpy.random.triangular as it lets me set a min, mean and max and will clearly show a normal distribution is present."
   ]
  },
  {
   "cell_type": "code",
   "execution_count": null,
   "metadata": {},
   "outputs": [],
   "source": []
  },
  {
   "cell_type": "code",
   "execution_count": 17,
   "metadata": {},
   "outputs": [],
   "source": [
    "np.random.seed(11) # reproducibility of results\n",
    "#np.arange - choose number from 1 to 4 (higher number exclusive)\n",
    "#np.random.choice allows size of dataset and determine probability of each number in a\n",
    "accidents = np.random.triangular(0, 3.5,5, size=1001).round(0)\n",
    "# on average a person will be in 3/4 accidents reference 11"
   ]
  },
  {
   "cell_type": "code",
   "execution_count": 18,
   "metadata": {},
   "outputs": [
    {
     "data": {
      "text/plain": [
       "<matplotlib.axes._subplots.AxesSubplot at 0x162c74cc748>"
      ]
     },
     "execution_count": 18,
     "metadata": {},
     "output_type": "execute_result"
    },
    {
     "data": {
      "image/png": "[encoded data removed]",
      "text/plain": [
       "<Figure size 432x288 with 1 Axes>"
      ]
     },
     "metadata": {
      "needs_background": "light"
     },
     "output_type": "display_data"
    }
   ],
   "source": [
    "sns.distplot(accidents)"
   ]
  },
  {
   "cell_type": "code",
   "execution_count": 19,
   "metadata": {},
   "outputs": [
    {
     "ename": "NameError",
     "evalue": "name 'reason_pp' is not defined",
     "output_type": "error",
     "traceback": [
      "\u001b[1;31m---------------------------------------------------------------------------\u001b[0m",
      "\u001b[1;31mNameError\u001b[0m                                 Traceback (most recent call last)",
      "\u001b[1;32m<ipython-input-19-9f9741f02062>\u001b[0m in \u001b[0;36m<module>\u001b[1;34m\u001b[0m\n\u001b[1;32m----> 1\u001b[1;33m \u001b[0mdf\u001b[0m \u001b[1;33m=\u001b[0m \u001b[0mpd\u001b[0m\u001b[1;33m.\u001b[0m\u001b[0mDataFrame\u001b[0m\u001b[1;33m(\u001b[0m\u001b[1;33m{\u001b[0m\u001b[1;34m'Age'\u001b[0m\u001b[1;33m:\u001b[0m\u001b[0mage\u001b[0m\u001b[1;33m.\u001b[0m\u001b[0mround\u001b[0m\u001b[1;33m(\u001b[0m\u001b[1;36m0\u001b[0m\u001b[1;33m)\u001b[0m\u001b[1;33m,\u001b[0m \u001b[1;34m\"Gender\"\u001b[0m\u001b[1;33m:\u001b[0m\u001b[0mgender\u001b[0m\u001b[1;33m,\u001b[0m \u001b[1;34m\"Location\"\u001b[0m\u001b[1;33m:\u001b[0m\u001b[0mlocation\u001b[0m\u001b[1;33m,\u001b[0m \u001b[1;34m\"Reason\"\u001b[0m\u001b[1;33m:\u001b[0m\u001b[0mreason_pp\u001b[0m\u001b[1;33m,\u001b[0m \u001b[1;34m\"Total Points\"\u001b[0m\u001b[1;33m:\u001b[0m\u001b[0mtotal_points\u001b[0m\u001b[1;33m,\u001b[0m \u001b[1;34m\"Accidents\"\u001b[0m\u001b[1;33m:\u001b[0m\u001b[0maccidents\u001b[0m\u001b[1;33m.\u001b[0m\u001b[0mround\u001b[0m\u001b[1;33m(\u001b[0m\u001b[1;36m0\u001b[0m\u001b[1;33m)\u001b[0m\u001b[1;33m}\u001b[0m\u001b[1;33m)\u001b[0m \u001b[1;31m# create dataframe# create dataframe\u001b[0m\u001b[1;33m\u001b[0m\u001b[1;33m\u001b[0m\u001b[0m\n\u001b[0m\u001b[0;32m      2\u001b[0m \u001b[0mdf\u001b[0m\u001b[1;33m[\u001b[0m\u001b[1;34m\"Location\"\u001b[0m\u001b[1;33m]\u001b[0m\u001b[1;33m.\u001b[0m\u001b[0mreplace\u001b[0m\u001b[1;33m(\u001b[0m\u001b[1;33m{\u001b[0m\u001b[1;36m1\u001b[0m\u001b[1;33m:\u001b[0m\u001b[1;34m\"Leinster\"\u001b[0m\u001b[1;33m,\u001b[0m \u001b[1;36m2\u001b[0m\u001b[1;33m:\u001b[0m\u001b[1;34m\"Ulster\"\u001b[0m\u001b[1;33m,\u001b[0m \u001b[1;36m3\u001b[0m\u001b[1;33m:\u001b[0m\u001b[1;34m\"Munster\"\u001b[0m\u001b[1;33m,\u001b[0m \u001b[1;36m4\u001b[0m\u001b[1;33m:\u001b[0m\u001b[1;34m\"Connacht\"\u001b[0m\u001b[1;33m}\u001b[0m\u001b[1;33m,\u001b[0m \u001b[0minplace\u001b[0m\u001b[1;33m=\u001b[0m\u001b[1;32mTrue\u001b[0m\u001b[1;33m)\u001b[0m\u001b[1;33m\u001b[0m\u001b[1;33m\u001b[0m\u001b[0m\n\u001b[0;32m      3\u001b[0m \u001b[0mdf\u001b[0m\u001b[1;33m[\u001b[0m\u001b[1;34m\"Gender\"\u001b[0m\u001b[1;33m]\u001b[0m\u001b[1;33m.\u001b[0m\u001b[0mreplace\u001b[0m\u001b[1;33m(\u001b[0m\u001b[1;33m{\u001b[0m\u001b[1;36m1\u001b[0m\u001b[1;33m:\u001b[0m\u001b[1;34m'Male'\u001b[0m\u001b[1;33m,\u001b[0m \u001b[1;36m2\u001b[0m\u001b[1;33m:\u001b[0m\u001b[1;34m'Female'\u001b[0m\u001b[1;33m}\u001b[0m\u001b[1;33m,\u001b[0m \u001b[0minplace\u001b[0m\u001b[1;33m=\u001b[0m\u001b[1;32mTrue\u001b[0m\u001b[1;33m)\u001b[0m \u001b[1;31m# replace number 1 with Male & number 2 with female\u001b[0m\u001b[1;33m\u001b[0m\u001b[1;33m\u001b[0m\u001b[0m\n\u001b[0;32m      4\u001b[0m \u001b[0mdf\u001b[0m\u001b[1;33m[\u001b[0m\u001b[1;34m\"Reason\"\u001b[0m\u001b[1;33m]\u001b[0m\u001b[1;33m.\u001b[0m\u001b[0mreplace\u001b[0m\u001b[1;33m(\u001b[0m\u001b[1;33m{\u001b[0m\u001b[1;36m1\u001b[0m\u001b[1;33m:\u001b[0m\u001b[1;34m\"Speeding\"\u001b[0m\u001b[1;33m,\u001b[0m \u001b[1;36m2\u001b[0m\u001b[1;33m:\u001b[0m\u001b[1;34m\"Phone\"\u001b[0m\u001b[1;33m,\u001b[0m \u001b[1;36m3\u001b[0m\u001b[1;33m:\u001b[0m\u001b[1;34m\"No Seatbelt\"\u001b[0m\u001b[1;33m,\u001b[0m \u001b[1;36m4\u001b[0m\u001b[1;33m:\u001b[0m\u001b[1;34m\"Drink Driving\"\u001b[0m\u001b[1;33m}\u001b[0m\u001b[1;33m,\u001b[0m \u001b[0minplace\u001b[0m\u001b[1;33m=\u001b[0m\u001b[1;32mTrue\u001b[0m\u001b[1;33m)\u001b[0m\u001b[1;33m\u001b[0m\u001b[1;33m\u001b[0m\u001b[0m\n\u001b[0;32m      5\u001b[0m \u001b[0mdf\u001b[0m\u001b[1;33m[\u001b[0m\u001b[1;34m\"Total Points\"\u001b[0m\u001b[1;33m]\u001b[0m\u001b[1;33m.\u001b[0m\u001b[0mreplace\u001b[0m\u001b[1;33m(\u001b[0m\u001b[1;33m{\u001b[0m\u001b[1;36m1\u001b[0m\u001b[1;33m:\u001b[0m\u001b[1;34m\"1\"\u001b[0m\u001b[1;33m,\u001b[0m \u001b[1;36m2\u001b[0m\u001b[1;33m:\u001b[0m\u001b[1;34m\"2\"\u001b[0m\u001b[1;33m,\u001b[0m \u001b[1;36m3\u001b[0m\u001b[1;33m:\u001b[0m\u001b[1;34m\"3\"\u001b[0m\u001b[1;33m,\u001b[0m \u001b[1;36m4\u001b[0m\u001b[1;33m:\u001b[0m\u001b[1;34m\"4\"\u001b[0m\u001b[1;33m,\u001b[0m \u001b[1;36m5\u001b[0m\u001b[1;33m:\u001b[0m\u001b[1;34m\"5\"\u001b[0m\u001b[1;33m,\u001b[0m \u001b[1;36m6\u001b[0m\u001b[1;33m:\u001b[0m\u001b[1;34m\"6\"\u001b[0m\u001b[1;33m,\u001b[0m \u001b[1;36m7\u001b[0m\u001b[1;33m:\u001b[0m\u001b[1;34m\"7 \"\u001b[0m\u001b[1;33m,\u001b[0m \u001b[1;36m8\u001b[0m\u001b[1;33m:\u001b[0m\u001b[1;34m\"8\"\u001b[0m\u001b[1;33m,\u001b[0m \u001b[1;36m9\u001b[0m\u001b[1;33m:\u001b[0m\u001b[1;34m\"9\"\u001b[0m\u001b[1;33m,\u001b[0m \u001b[1;36m10\u001b[0m\u001b[1;33m:\u001b[0m\u001b[1;34m\"10\"\u001b[0m\u001b[1;33m,\u001b[0m \u001b[1;36m11\u001b[0m\u001b[1;33m:\u001b[0m\u001b[1;34m\"11\"\u001b[0m\u001b[1;33m,\u001b[0m \u001b[1;36m12\u001b[0m\u001b[1;33m:\u001b[0m\u001b[1;34m\"12\"\u001b[0m\u001b[1;33m}\u001b[0m\u001b[1;33m,\u001b[0m \u001b[0minplace\u001b[0m\u001b[1;33m=\u001b[0m\u001b[1;32mFalse\u001b[0m\u001b[1;33m)\u001b[0m\u001b[1;33m\u001b[0m\u001b[1;33m\u001b[0m\u001b[0m\n",
      "\u001b[1;31mNameError\u001b[0m: name 'reason_pp' is not defined"
     ]
    }
   ],
   "source": [
    "df = pd.DataFrame({'Age':age.round(0), \"Gender\":gender, \"Location\":location, \"Reason\":reason_pp, \"Total Points\":total_points, \"Accidents\":accidents.round(0)}) # create dataframe# create dataframe\n",
    "df[\"Location\"].replace({1:\"Leinster\", 2:\"Ulster\", 3:\"Munster\", 4:\"Connacht\"}, inplace=True)\n",
    "df[\"Gender\"].replace({1:'Male', 2:'Female'}, inplace=True) # replace number 1 with Male & number 2 with female\n",
    "df[\"Reason\"].replace({1:\"Speeding\", 2:\"Phone\", 3:\"No Seatbelt\", 4:\"Drink Driving\"}, inplace=True) \n",
    "df[\"Total Points\"].replace({1:\"1\", 2:\"2\", 3:\"3\", 4:\"4\", 5:\"5\", 6:\"6\", 7:\"7 \", 8:\"8\", 9:\"9\", 10:\"10\", 11:\"11\", 12:\"12\"}, inplace=False)\n",
    "df[\"Accidents\"].replace({1:\"0\", 2:\"1\", 3:\"2\", 4:\"3\", 5:\"4\", 6:\"5\"}, inplace=False)\n",
    "df"
   ]
  },
  {
   "cell_type": "markdown",
   "metadata": {},
   "source": [
    "#### Overview of the dataset\n",
    "Dataset dimensions.\n",
    "\n",
    "By using the shape property we can get a quick idea of how many rows and how many attributes columns the data contains. When the dataset is created with pandas, it gives the dataset dimensions at the end of the table.\n",
    "\n",
    "This df.shape can be used to verify it is correct."
   ]
  },
  {
   "cell_type": "code",
   "execution_count": null,
   "metadata": {},
   "outputs": [],
   "source": [
    "print(\"Rows x Columns:\", df.shape) # 159000 rows and 4 columns. The same as it sa"
   ]
  },
  {
   "cell_type": "markdown",
   "metadata": {},
   "source": [
    "#### Glance at the data\n",
    "By glancing at the data using the head, tail and sample functions it is possible to eyeball the data"
   ]
  },
  {
   "cell_type": "code",
   "execution_count": null,
   "metadata": {},
   "outputs": [],
   "source": [
    "df.head() # prints out first 5 rows of dataset\n",
    "# no input = 5 (default)"
   ]
  },
  {
   "cell_type": "code",
   "execution_count": null,
   "metadata": {},
   "outputs": [],
   "source": [
    "df.tail() #prints last 5 rows of dataset (default)"
   ]
  },
  {
   "cell_type": "code",
   "execution_count": null,
   "metadata": {},
   "outputs": [],
   "source": [
    "df.sample(15) # view 5 random rows of dataset"
   ]
  },
  {
   "cell_type": "markdown",
   "metadata": {},
   "source": [
    "By using these simple functions it is easy to do a overview comparision for each of the variables of the data between each of the variables. These functions do not really tell us any valubale information but is more so to familarise us with the dataset."
   ]
  },
  {
   "cell_type": "markdown",
   "metadata": {},
   "source": [
    "#### Statistical Summary\n",
    "There are two methods in which you can view a summary of the dataset. The first method is using the describe function in pandas which will output a table with a statistical overview of the data. It is also possible to obtain all the same information by using each individual built in functions such as:\n",
    "\n",
    "* df.min()\n",
    "* df.max()\n",
    "* df.mean()"
   ]
  },
  {
   "cell_type": "code",
   "execution_count": null,
   "metadata": {},
   "outputs": [],
   "source": [
    "df.describe() # statistical analysis of numerical variables"
   ]
  },
  {
   "cell_type": "markdown",
   "metadata": {},
   "source": [
    "Average amount on peoples license is nearly 4 points while just pver 1 person has been involved in an accident. While the average amount of accidents a person will be in their lifetime is 3-4 accidents. The mean result from this simulatation is relevant as there is a broad age group in this dataset."
   ]
  },
  {
   "cell_type": "code",
   "execution_count": null,
   "metadata": {},
   "outputs": [],
   "source": [
    "plt.figure(figsize = (10, 7)) #plot size\n",
    "x = df[\"Accidents\"] # show tip column only\n",
    "\n",
    "# colour of the histogram, range, layout \n",
    "plt.hist(x, color = \"skyblue\", density=False, bins=20, rwidth=0.8) \n",
    "#title of histogram\n",
    "plt.title(\"Histogram showing number of Accidents \")\n",
    "#x axis label \n",
    "plt.xlabel(\"Accidents\") \n",
    "#y axis label\n",
    "plt.ylabel(\"Number of Accidnts\")\n",
    "#show gridlines\n",
    "plt.grid()\n",
    "#display plot\n",
    "plt.show()"
   ]
  },
  {
   "cell_type": "code",
   "execution_count": null,
   "metadata": {},
   "outputs": [],
   "source": [
    "plt.figure(figsize = (10, 7)) #plot size\n",
    "x = df[\"Total Points\"] # show tip column only\n",
    "\n",
    "# colour of the histogram, range, layout \n",
    "plt.hist(x, color = \"green\", density=False, bins=20, rwidth=0.8) \n",
    "#title of histogram\n",
    "plt.title(\"Histogram showing Total Points on License\")\n",
    "#x axis label \n",
    "plt.xlabel(\"Points\") \n",
    "#y axis label\n",
    "plt.ylabel(\"Number of People\")\n",
    "#show gridlines\n",
    "plt.grid()\n",
    "#display plot\n",
    "plt.show()"
   ]
  },
  {
   "cell_type": "markdown",
   "metadata": {},
   "source": [
    "### Examine Gender Variable"
   ]
  },
  {
   "cell_type": "code",
   "execution_count": null,
   "metadata": {},
   "outputs": [],
   "source": [
    "##groupby allows to analyse each column separately/view certain columns together\n",
    "df.groupby(\"Gender\").size()"
   ]
  },
  {
   "cell_type": "markdown",
   "metadata": {},
   "source": [
    "Based off research, we know that men historically have more penalty points that women and that is no different in this simulation. Men recieved approximately two times more penalty point endorsement notices compared to females."
   ]
  },
  {
   "cell_type": "code",
   "execution_count": null,
   "metadata": {},
   "outputs": [],
   "source": [
    "#groupby allows to analyse each column separately/view certain columns together\n",
    "df.groupby(\"Gender\").sum() # sum of numerical variables for Gender"
   ]
  },
  {
   "cell_type": "markdown",
   "metadata": {},
   "source": [
    "The main thing to show here is that males have recieved more penalty points and been involved in more accidents which both align with real life. According to statistics in the US, males drive 40 percent more miles that females each year which increases their likely hood of bring in a car accident but also are more prone to more aggressive driving than females resulting in the high numbers. [(12. Car Accidents)](https://www.trafficsafetystore.com/blog/who-causes-accidents/)"
   ]
  },
  {
   "cell_type": "code",
   "execution_count": null,
   "metadata": {},
   "outputs": [],
   "source": []
  },
  {
   "cell_type": "code",
   "execution_count": null,
   "metadata": {},
   "outputs": [],
   "source": []
  },
  {
   "cell_type": "code",
   "execution_count": null,
   "metadata": {},
   "outputs": [],
   "source": []
  },
  {
   "cell_type": "code",
   "execution_count": null,
   "metadata": {},
   "outputs": [],
   "source": []
  },
  {
   "cell_type": "code",
   "execution_count": null,
   "metadata": {},
   "outputs": [],
   "source": []
  },
  {
   "cell_type": "code",
   "execution_count": null,
   "metadata": {},
   "outputs": [],
   "source": []
  },
  {
   "cell_type": "code",
   "execution_count": null,
   "metadata": {},
   "outputs": [],
   "source": []
  },
  {
   "cell_type": "code",
   "execution_count": null,
   "metadata": {},
   "outputs": [],
   "source": []
  },
  {
   "cell_type": "code",
   "execution_count": null,
   "metadata": {},
   "outputs": [],
   "source": []
  },
  {
   "cell_type": "code",
   "execution_count": null,
   "metadata": {},
   "outputs": [],
   "source": []
  },
  {
   "cell_type": "markdown",
   "metadata": {},
   "source": [
    "### References\n",
    "\n",
    "1. http://www-ist.massey.ac.nz/dstirlin/CAST/CAST/Hstructures/structures_c2.html\n",
    "\n",
    "2. https://docs.scipy.org/doc/numpy-1.14.0/reference/routines.random.html\n",
    "\n",
    "3. https://docs.scipy.org/doc/numpy-1.14.1/reference/generated/numpy.random.triangular.html\n",
    "\n",
    "4. https://www.rsa.ie/en/RSA/Licensed-Drivers/Penalty-points/How-it-works-why-it-matters/\n",
    "\n",
    "5. https://www.rsa.ie/en/RSA/Licensed-Drivers/Penalty-points/StrategyRegulations/\n",
    "\n",
    "6. https://www.cso.ie/en/releasesandpublications/ep/p-tranom/transportomnibus2018/penaltypoints/\n",
    "\n",
    "7. https://www.geeksforgeeks.org/different-ways-to-create-pandas-dataframe/\n",
    "\n",
    "8. https://docs.scipy.org/doc/numpy-1.13.0/reference/generated/numpy.random.choice.html\n",
    "\n",
    "9. https://pandas.pydata.org/pandas-docs/stable/reference/api/pandas.DataFrame.replace.html\n",
    "\n",
    "10. https://www.psni.police.uk/globalassets/inside-the-psni/our-statistics/motoring-offences-statistics/2017/motoring-offences-2017-annual-report.pdf\n",
    "\n",
    "11. https://www.forbes.com/sites/moneybuilder/2011/07/27/how-many-times-will-you-crash-your-car/#63fbc784e621\n",
    "\n",
    "12. Traffic Safety Store, 2017, Who Causes More Car Accidents? The Data May Surprise You, Viewed on 15 Dec 19 [https://www.trafficsafetystore.com/blog/who-causes-accidents/]\n",
    "\n",
    "13. Journel.ie, 2017, Male drivers rack up penalty points twice as often as women over a decade, Viewed on 15 Dec 19, https://www.thejournal.ie/men-women-penalty-points-ireland-3428314-Jun2017/\n",
    "\n",
    "14. Stackoverflow, 2017, Veiewd on 15 Dec 19, https://stackoverflow.com/a/44463130\n",
    "\n",
    "15. Journel.ie, 2017, Ranked - the counties where you're most likely to have received penalty points, Viewed on 15 Dec 19, https://www.thejournal.ie/penalty-point-rankings-3418643-Jun2017/\n",
    "\n",
    "16. Journal.ie, 2018, Poll: How often do you break the speed limit?, Viewed on 15 Dec 19, https://www.thejournal.ie/gardai-speeding-slow-down-4416832-Dec2018/\n",
    "\n",
    "17. Irish Times.ie, 2018, Motorists speeding up to 30km/h over limit may face 7 penalty points, Viewed on 15 Dec 19, https://www.irishtimes.com/news/ireland/irish-news/motorists-speeding-up-to-30km-h-over-limit-may-face-7-penalty-points-1.3727587\n",
    "\n",
    "18. Citizens Information, Penalty points for driving offences, Viewed on 15 Dec 19, https://www.citizensinformation.ie/en/travel_and_recreation/motoring_1/driving_offences/penalty_points_for_driving_offences.html\n",
    "\n",
    "19. The Irish Times, 2017, Number of drivers with 12 penalty points doubles, Date Viewed 15 Dec 19, https://www.irishtimes.com/life-and-style/motors/number-of-drivers-with-12-penalty-points-doubles-1.3011405"
   ]
  },
  {
   "cell_type": "code",
   "execution_count": null,
   "metadata": {},
   "outputs": [],
   "source": []
  },
  {
   "cell_type": "code",
   "execution_count": null,
   "metadata": {},
   "outputs": [],
   "source": []
  },
  {
   "cell_type": "code",
   "execution_count": null,
   "metadata": {},
   "outputs": [],
   "source": []
  }
 ],
 "metadata": {
  "kernelspec": {
   "display_name": "Python 3",
   "language": "python",
   "name": "python3"
  },
  "language_info": {
   "codemirror_mode": {
    "name": "ipython",
    "version": 3
   },
   "file_extension": ".py",
   "mimetype": "text/x-python",
   "name": "python",
   "nbconvert_exporter": "python",
   "pygments_lexer": "ipython3",
   "version": "3.7.1"
  }
 },
 "nbformat": 4,
 "nbformat_minor": 2
}
