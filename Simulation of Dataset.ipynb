{
 "cells": [
  {
   "cell_type": "markdown",
   "metadata": {},
   "source": [
    "This project is to simulate a real world phenonenom and complete a summary on it.\n",
    "\n",
    "I am choosing : Instances of penalty points in ireland in 2017. I will examine 5 variables\n",
    "* Gender (Male/Female)\n",
    "* Age (17-85)\n",
    "* Location (Leinster, Munster, Ulster, Connacht)\n",
    "* Cause of Penalty Points (Speeding, Mobile Phone Use, No insurance, No seatbelt)\n",
    "\n",
    "Defining what each variable in the dataset:\n",
    "1. Gender - nominal\n",
    "2. Age - continuous numerical variable\n",
    "3. Location of Accident - nominal\n",
    "4. Cause of Penalty Points - nominal\n",
    "\n",
    "The reason I have selected the above variables is because I feel there is substantial information avaialble to base my workings off. Car accidents are unfortunately common in Ireland and can be affected by any number of factors. The issuance of penalties points by government regulated bodies such as An Garda Siochana given an insight to how obedient we are to the roads. Even though the information I will be providing throughout this dataset is randomly simulated, I will be referencing real life instances and statistics.\n",
    "\n",
    "As per the above I have categorised each of my variables. Based off my research, I classified 'Age' as a continuous numerical variable because it contains numerous values within a given range. I decided to define  3 variables as nominal variables because it does not matter which way the categories are ordered, whhether it be in tabular or graphical displays - all orderings are equally meaningful.[(1. Variable Categories)](http://www-ist.massey.ac.nz/dstirlin/CAST/CAST/Hstructures/structures_c2.html).\n",
    "\n",
    "\n",
    "As per the requirements of the assignment, the dataset must include a minimum of 100 datapoints. To do this I used the numpy.random package in numpy. [(2. Numpy.random)](https://docs.scipy.org/doc/numpy-1.14.0/reference/routines.random.html). I will use this package to randomly generate a dataset to represent the number of penalty points issued in Ireland in 2017, 189000. The age range for the dataset which will be 17 to 85 because you cannot drive until you are 17 in Ireland and there are few drivers over the age of 85 in Ireland. Gender, issuance of penalty points and cause of issuance will all be examined in this simulation."
   ]
  },
  {
   "cell_type": "markdown",
   "metadata": {},
   "source": [
    "In 2017:\n",
    "* 68% Speeding\n",
    "* 13% Mobile\n",
    "* 19% Other"
   ]
  },
  {
   "cell_type": "code",
   "execution_count": 1,
   "metadata": {},
   "outputs": [],
   "source": [
    "import pandas as pd #imports Pandas library \n",
    "import numpy as np #imports NumPy package\n",
    "import seaborn as sns #imports Seaborn package\n",
    "import matplotlib.pyplot as plt #imports Matplotlib library"
   ]
  },
  {
   "cell_type": "code",
   "execution_count": 9,
   "metadata": {},
   "outputs": [
    {
     "data": {
      "text/plain": [
       "(array([ 4739., 13917., 22894., 32067., 34945., 28870., 22679., 16001.,\n",
       "         9649.,  3239.]),\n",
       " array([17.07046027, 23.85256134, 30.6346624 , 37.41676347, 44.19886454,\n",
       "        50.98096561, 57.76306668, 64.54516775, 71.32726881, 78.10936988,\n",
       "        84.89147095]),\n",
       " <a list of 10 Patch objects>)"
      ]
     },
     "execution_count": 9,
     "metadata": {},
     "output_type": "execute_result"
    },
    {
     "data": {
      "image/png": "[encoded data removed]",
      "text/plain": [
       "<Figure size 432x288 with 1 Axes>"
      ]
     },
     "metadata": {
      "needs_background": "light"
     },
     "output_type": "display_data"
    }
   ],
   "source": [
    "np.random.seed(11) # for reproducability so can test simulation\n",
    "age = np.random.triangular(17, 45, 85, 189000)\n",
    "plt.hist(age)\n",
    "\n"
   ]
  },
  {
   "cell_type": "code",
   "execution_count": null,
   "metadata": {},
   "outputs": [],
   "source": []
  },
  {
   "cell_type": "code",
   "execution_count": null,
   "metadata": {},
   "outputs": [],
   "source": []
  },
  {
   "cell_type": "code",
   "execution_count": null,
   "metadata": {},
   "outputs": [],
   "source": []
  },
  {
   "cell_type": "code",
   "execution_count": null,
   "metadata": {},
   "outputs": [],
   "source": []
  },
  {
   "cell_type": "code",
   "execution_count": null,
   "metadata": {},
   "outputs": [],
   "source": []
  },
  {
   "cell_type": "markdown",
   "metadata": {},
   "source": [
    "### References\n",
    "\n",
    "1. http://www-ist.massey.ac.nz/dstirlin/CAST/CAST/Hstructures/structures_c2.html\n",
    "\n",
    "2. https://docs.scipy.org/doc/numpy-1.14.0/reference/routines.random.html"
   ]
  },
  {
   "cell_type": "code",
   "execution_count": null,
   "metadata": {},
   "outputs": [],
   "source": []
  }
 ],
 "metadata": {
  "kernelspec": {
   "display_name": "Python 3",
   "language": "python",
   "name": "python3"
  },
  "language_info": {
   "codemirror_mode": {
    "name": "ipython",
    "version": 3
   },
   "file_extension": ".py",
   "mimetype": "text/x-python",
   "name": "python",
   "nbconvert_exporter": "python",
   "pygments_lexer": "ipython3",
   "version": "3.7.1"
  }
 },
 "nbformat": 4,
 "nbformat_minor": 2
}
