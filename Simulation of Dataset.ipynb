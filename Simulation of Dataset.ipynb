{
 "cells": [
  {
   "cell_type": "markdown",
   "metadata": {},
   "source": [
    "This project is to simulate a real world phenonenom and complete a summary on it.\n",
    "\n",
    "I am choosing : Instances of car accidents in ireland. I will examine 5 variables\n",
    "* Gender (Male/Female)\n",
    "* Age (17-85)\n",
    "* Location (Leinster, Munster, Ulster, Connacht)\n",
    "* Cause of Accident (Speeding, Influence, Car Defect, Road Conditions)\n",
    "* How many accidents these people been in the last 10 years (2009 to 2019)\n",
    "\n",
    "Defining what each variable in the dataset:\n",
    "1. Gender - nominal\n",
    "2. Age - continuous numerical variable\n",
    "3. Location of Accident - nominal\n",
    "4. Cause of Accident - nominal\n",
    "5. How many accidents these people been in the last 10 years - discrete numerical variable\n",
    "\n",
    "The reason I have selected the above variables is because I feel there is substantial information avaialble to base my workings off. Car crashes are unfortunately common in Ireland and can be affected by any number of factors. Even though the information I will be providing throughout this dataset is randomly simulated, I will be referencing real life instances and statistics.\n",
    "\n",
    "As per the above I have categorised each of my variables. Based off my research, I classified 'Age' as a continuous numerical variable because it contains numerous values within a given range. I decided to define  3 variables as nominal variables because it does not matter which way the categories are ordered, whhether it be in tabular or graphical displays - all orderings are equally meaningful. The last variable, number of accidents in previous 10 years is a discrete numerical variable because it has a countable number of possible values[(1. Variable Categories)](http://www-ist.massey.ac.nz/dstirlin/CAST/CAST/Hstructures/structures_c2.html).\n",
    "\n",
    "\n",
    "As per the requirements of the assignment, the dataset must include a minimum of 100 datapoints. To do this I used the numpy.random package in numpy. [(2. Numpy.random)](https://docs.scipy.org/doc/numpy-1.14.0/reference/routines.random.html). I will use this package to randomly generate a dataset to represent 150 car accidents in Ireland and age range for the dataset which will be 17 to 85 because you cannot drive until you are 17 in Ireland and there are few drivers over the age of 85."
   ]
  },
  {
   "cell_type": "code",
   "execution_count": 1,
   "metadata": {},
   "outputs": [],
   "source": [
    "import pandas as pd #imports Pandas library \n",
    "import numpy as np #imports NumPy package\n",
    "import seaborn as sns #imports Seaborn package\n",
    "import matplotlib.pyplot as plt #imports Matplotlib library"
   ]
  },
  {
   "cell_type": "code",
   "execution_count": 11,
   "metadata": {},
   "outputs": [
    {
     "data": {
      "text/plain": [
       "array([  0,   1,   2,   3,   4,   5,   6,   7,   8,   9,  10,  11,  12,\n",
       "        13,  14,  15,  16,  17,  18,  19,  20,  21,  22,  23,  24,  25,\n",
       "        26,  27,  28,  29,  30,  31,  32,  33,  34,  35,  36,  37,  38,\n",
       "        39,  40,  41,  42,  43,  44,  45,  46,  47,  48,  49,  50,  51,\n",
       "        52,  53,  54,  55,  56,  57,  58,  59,  60,  61,  62,  63,  64,\n",
       "        65,  66,  67,  68,  69,  70,  71,  72,  73,  74,  75,  76,  77,\n",
       "        78,  79,  80,  81,  82,  83,  84,  85,  86,  87,  88,  89,  90,\n",
       "        91,  92,  93,  94,  95,  96,  97,  98,  99, 100, 101, 102, 103,\n",
       "       104, 105, 106, 107, 108, 109, 110, 111, 112, 113, 114, 115, 116,\n",
       "       117, 118, 119, 120, 121, 122, 123, 124, 125, 126, 127, 128, 129,\n",
       "       130, 131, 132, 133, 134, 135, 136, 137, 138, 139, 140, 141, 142,\n",
       "       143, 144, 145, 146, 147, 148, 149, 150])"
      ]
     },
     "execution_count": 11,
     "metadata": {},
     "output_type": "execute_result"
    }
   ],
   "source": [
    "accidents = np.arange(151) #generates an array of 150 numbers between 1 and 0 & 150\n",
    "driver_age = np.random.randint(17, 85, 100)#generates a random array of 150 numbers in a range from 17 to 85\n",
    "\n",
    "accidents"
   ]
  },
  {
   "cell_type": "code",
   "execution_count": null,
   "metadata": {},
   "outputs": [],
   "source": []
  },
  {
   "cell_type": "code",
   "execution_count": null,
   "metadata": {},
   "outputs": [],
   "source": []
  },
  {
   "cell_type": "code",
   "execution_count": null,
   "metadata": {},
   "outputs": [],
   "source": []
  },
  {
   "cell_type": "code",
   "execution_count": null,
   "metadata": {},
   "outputs": [],
   "source": []
  },
  {
   "cell_type": "code",
   "execution_count": null,
   "metadata": {},
   "outputs": [],
   "source": []
  },
  {
   "cell_type": "markdown",
   "metadata": {},
   "source": [
    "### References\n",
    "\n",
    "1. http://www-ist.massey.ac.nz/dstirlin/CAST/CAST/Hstructures/structures_c2.html\n",
    "\n",
    "2. https://docs.scipy.org/doc/numpy-1.14.0/reference/routines.random.html"
   ]
  },
  {
   "cell_type": "code",
   "execution_count": null,
   "metadata": {},
   "outputs": [],
   "source": []
  }
 ],
 "metadata": {
  "kernelspec": {
   "display_name": "Python 3",
   "language": "python",
   "name": "python3"
  },
  "language_info": {
   "codemirror_mode": {
    "name": "ipython",
    "version": 3
   },
   "file_extension": ".py",
   "mimetype": "text/x-python",
   "name": "python",
   "nbconvert_exporter": "python",
   "pygments_lexer": "ipython3",
   "version": "3.7.1"
  }
 },
 "nbformat": 4,
 "nbformat_minor": 2
}
