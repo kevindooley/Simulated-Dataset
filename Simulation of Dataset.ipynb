{
 "cells": [
  {
   "cell_type": "markdown",
   "metadata": {},
   "source": [
    "## Programming for Data Analysis Project 2019\n",
    "#### By Kevin Dooley"
   ]
  },
  {
   "cell_type": "markdown",
   "metadata": {},
   "source": [
    "### Simulation of Real World Phenonenom - Penalty Points in Ireland"
   ]
  },
  {
   "cell_type": "markdown",
   "metadata": {},
   "source": [
    "Foundation of Project and Real life Statistics\n",
    "\n",
    "#### Background\n",
    "The penalty points system for driving offences was introduced in Ireland with the aim to improve driver behaviour and reduce the levels of death and serious injury on our roads. A penalty point is a formal reprimand by the Gardai on your driving license record that shows you are guilty of specific driving offences. There are a total of 63 road offences that can attract penalty points.\n",
    "\n",
    "By obtaining penalty points on your license you recieve a fine and depending on the road offence, may be required to appear in court. It is a requirement to notify your insurance company of any road traffic offences also at which stage your insurance company may opt to increase the drivers premium. All these are hefty consequences in place for motorists who do not abide by the rules of the road. Penalty points while are there to try improve the saftey on our roads.\n",
    "[(3. Penalty Points Background)](https://www.rsa.ie/en/RSA/Licensed-Drivers/Penalty-points/How-it-works-why-it-matters/)\n",
    "\n",
    "#### How does the system work\n",
    "Penalty Points are recorded on your licesne if you are convicted of a driving offence. Each offence carries a different point value depening on the severity of the offence. Any driver accumulating 12 penalty points within any given three-year period will be automatically disqualified from driving for six months. A lower threshold of 7 penalty points leading to disqualification applies to any driver on a learner permit. [(3. Penalty Points Background)](https://www.rsa.ie/en/RSA/Licensed-Drivers/Penalty-points/How-it-works-why-it-matters/)\n",
    "\n",
    "#### Improve Irish Roads Strategy\n",
    "Ireland’s road safety record has continually improved over the past number of years. There was a 16% decrease in the number of fatal accidents in Ireland in 2017 compared to 2016, of which penalty points played an important role. The penalty points system has played an important role in this by incentivising drivers to modify their behaviour and drive more safely. The penalty point is used in conjuction with the 'Closing the Gap' Strategy to make Ireland’s roads as safe as the best performing countries in the world.\n",
    "While the penalty points system has proved to have been an effective deterrent in changing road users’ behaviour for the better over the past decade. It must be consistently reviewed and updated to ensure it is an effective system and established mitigations against new driver behaviour. [(5. Road Stategies)](https://www.rsa.ie/en/RSA/Licensed-Drivers/Penalty-points/StrategyRegulations/)\n",
    "\n",
    "Tthe penalty points system plays an important role in road safety by incentivising drivers to modify their behaviour and drive more safely."
   ]
  },
  {
   "cell_type": "markdown",
   "metadata": {},
   "source": [
    "This project is to simulate a real world phenonenom and complete a summary on it.\n",
    "\n",
    "I am choosing : Instances of penalty point endorsement notices in ireland in 2018. I will examine 4 variables\n",
    "* Gender (Male/Female)\n",
    "* Age (17-85)\n",
    "* Location (Leinster, Munster, Ulster, Connacht)\n",
    "* Cause of Penalty Points (Speeding, Mobile Phone Use, Drink Driving, No seatbelt)\n",
    "* Total Points on License in 2018\n",
    "\n",
    "Defining what each variable in the dataset:\n",
    "1. Gender - nominal\n",
    "2. Age - continuous numerical variable\n",
    "3. Location of Accident - nominal\n",
    "4. Cause of Penalty Points - nominal\n",
    "5. Total points on license - discrete numerical variable\n",
    "\n",
    "The reason I have selected the above variables is because I feel there is substantial information avaialble to base my workings off. Car accidents are unfortunately common in Ireland and can be affected by any number of factors. The issuance of penalties points by government regulated bodies such as An Garda Siochana given an insight to how obedient we are to the roads. Even though the information I will be providing throughout this dataset is randomly simulated, I will be referencing real life instances and statistics.\n",
    "\n",
    "As per the above I have categorised each of my variables. Based off my research, I classified 'Age' as a continuous numerical variable because it contains numerous values within a given range. I decided to define  3 variables as nominal variables because it does not matter which way the categories are ordered, whhether it be in tabular or graphical displays - all orderings are equally meaningful.[(1. Variable Categories)](http://www-ist.massey.ac.nz/dstirlin/CAST/CAST/Hstructures/structures_c2.html).\n",
    "\n",
    "\n",
    "As per the requirements of the assignment, the dataset must include a minimum of 100 datapoints. To do this I used the numpy.random package in numpy. [(2. Numpy.random)](https://docs.scipy.org/doc/numpy-1.14.0/reference/routines.random.html). I will use this package to randomly generate a dataset to represent the number of penalty points issued in Ireland in 2017, 159000. In total, just over 189000 points were issued but in 30000 cases the gender was not recorded therefore I have omitted that from my simulation. The age range for the dataset which will be 17 to 85 because you cannot drive until you are 17 in Ireland and there are few drivers over the age of 85 in Ireland. Gender, area of issuance of the penalty points and cause of issuance will all be examined in this simulation."
   ]
  },
  {
   "cell_type": "markdown",
   "metadata": {},
   "source": [
    "Majority of statistics taken off the CSO website for penalty points for 2018. Used different numpy.random functions to simulate the data based off real life numbers from the CSO. [(6. CSO Statistics)](https://www.cso.ie/en/releasesandpublications/ep/p-tranom/transportomnibus2018/penaltypoints/)"
   ]
  },
  {
   "cell_type": "code",
   "execution_count": 1,
   "metadata": {},
   "outputs": [],
   "source": [
    "import pandas as pd #imports Pandas library \n",
    "import numpy as np #imports NumPy package\n",
    "import seaborn as sns #imports Seaborn package\n",
    "import matplotlib.pyplot as plt #imports Matplotlib library"
   ]
  },
  {
   "cell_type": "markdown",
   "metadata": {},
   "source": [
    "The aim of this project is to simulate a real-life phenomena, and do to this the numpy.random package will be used. This package was used to generate random numbers to define the age variable between 17-65. \n",
    "\n",
    "![](age.png)\n",
    "Figure above indicates people aged 30-40 years of age recieved the most penalty poinst the past 10 years. (Source: Statista 2017)\n",
    "Reasearch has shown that on average the the age group of 30-40 has recieved the highest number of penalty points. It is slightly surprising that young drivers are on the lower end of the spectrum as there is such media attention on young male drivers in particular being erratic and dangerous on roads.\n",
    "\n",
    "![](age1.png)\n",
    "(Source: CSO 2018)\n",
    "\n",
    "The distribution for the age variable is normal/gaussian distribution. As the mean is in the 30-40 range and either side of that range the number of penalty points recieved decreases which represents the standard deviation. I used the numpy.trianguar to create this variable. Numpy.trianuglar is commonly used in simulating datasets because it is posible to shape the distribution of the data using this function. I entered in the min, mean and max. I was able to simulate data that resembles that of the real world event. Both in the simulation and real world, the age variable would be of normal distribution."
   ]
  },
  {
   "cell_type": "code",
   "execution_count": 11,
   "metadata": {},
   "outputs": [
    {
     "data": {
      "image/png": "[encoded data removed]",
      "text/plain": [
       "<Figure size 432x288 with 1 Axes>"
      ]
     },
     "metadata": {
      "needs_background": "light"
     },
     "output_type": "display_data"
    }
   ],
   "source": [
    "# for reproducability so can test simulation\n",
    "age = np.random.triangular(17, 36, 65, 1000).round(0) # lower, mean, higher parameters of data, round to nearest whole number\n",
    "# you can set the shape of the distribution using random.triangular\n",
    "# based of review of CSO, I determined approx mean age for most penalty points was 45 years old\n",
    "plt.xlabel(\"Age (years)\") # x label\n",
    "plt.ylabel(\"Number of people\") # y label\n",
    "plt.title(\"Penalty points distribution between age groups\") # title\n",
    "plt.hist(age, density=True, bins=10) # histogram\n",
    "plt.show() # display plot"
   ]
  },
  {
   "cell_type": "code",
   "execution_count": 13,
   "metadata": {},
   "outputs": [
    {
     "data": {
      "text/plain": [
       "39.0"
      ]
     },
     "execution_count": 13,
     "metadata": {},
     "output_type": "execute_result"
    }
   ],
   "source": [
    "np.mean(age).round() #average age is between the expected 30-40 range"
   ]
  },
  {
   "cell_type": "code",
   "execution_count": 14,
   "metadata": {},
   "outputs": [
    {
     "data": {
      "text/html": [
       "<div>\n",
       "<style scoped>\n",
       "    .dataframe tbody tr th:only-of-type {\n",
       "        vertical-align: middle;\n",
       "    }\n",
       "\n",
       "    .dataframe tbody tr th {\n",
       "        vertical-align: top;\n",
       "    }\n",
       "\n",
       "    .dataframe thead th {\n",
       "        text-align: right;\n",
       "    }\n",
       "</style>\n",
       "<table border=\"1\" class=\"dataframe\">\n",
       "  <thead>\n",
       "    <tr style=\"text-align: right;\">\n",
       "      <th></th>\n",
       "      <th>Age</th>\n",
       "    </tr>\n",
       "  </thead>\n",
       "  <tbody>\n",
       "    <tr>\n",
       "      <th>0</th>\n",
       "      <td>43.0</td>\n",
       "    </tr>\n",
       "    <tr>\n",
       "      <th>1</th>\n",
       "      <td>39.0</td>\n",
       "    </tr>\n",
       "    <tr>\n",
       "      <th>2</th>\n",
       "      <td>34.0</td>\n",
       "    </tr>\n",
       "    <tr>\n",
       "      <th>3</th>\n",
       "      <td>26.0</td>\n",
       "    </tr>\n",
       "    <tr>\n",
       "      <th>4</th>\n",
       "      <td>35.0</td>\n",
       "    </tr>\n",
       "    <tr>\n",
       "      <th>5</th>\n",
       "      <td>52.0</td>\n",
       "    </tr>\n",
       "    <tr>\n",
       "      <th>6</th>\n",
       "      <td>35.0</td>\n",
       "    </tr>\n",
       "    <tr>\n",
       "      <th>7</th>\n",
       "      <td>40.0</td>\n",
       "    </tr>\n",
       "    <tr>\n",
       "      <th>8</th>\n",
       "      <td>45.0</td>\n",
       "    </tr>\n",
       "    <tr>\n",
       "      <th>9</th>\n",
       "      <td>41.0</td>\n",
       "    </tr>\n",
       "    <tr>\n",
       "      <th>10</th>\n",
       "      <td>38.0</td>\n",
       "    </tr>\n",
       "    <tr>\n",
       "      <th>11</th>\n",
       "      <td>43.0</td>\n",
       "    </tr>\n",
       "    <tr>\n",
       "      <th>12</th>\n",
       "      <td>50.0</td>\n",
       "    </tr>\n",
       "    <tr>\n",
       "      <th>13</th>\n",
       "      <td>52.0</td>\n",
       "    </tr>\n",
       "    <tr>\n",
       "      <th>14</th>\n",
       "      <td>36.0</td>\n",
       "    </tr>\n",
       "    <tr>\n",
       "      <th>15</th>\n",
       "      <td>35.0</td>\n",
       "    </tr>\n",
       "    <tr>\n",
       "      <th>16</th>\n",
       "      <td>33.0</td>\n",
       "    </tr>\n",
       "    <tr>\n",
       "      <th>17</th>\n",
       "      <td>51.0</td>\n",
       "    </tr>\n",
       "    <tr>\n",
       "      <th>18</th>\n",
       "      <td>36.0</td>\n",
       "    </tr>\n",
       "    <tr>\n",
       "      <th>19</th>\n",
       "      <td>29.0</td>\n",
       "    </tr>\n",
       "    <tr>\n",
       "      <th>20</th>\n",
       "      <td>39.0</td>\n",
       "    </tr>\n",
       "    <tr>\n",
       "      <th>21</th>\n",
       "      <td>37.0</td>\n",
       "    </tr>\n",
       "    <tr>\n",
       "      <th>22</th>\n",
       "      <td>31.0</td>\n",
       "    </tr>\n",
       "    <tr>\n",
       "      <th>23</th>\n",
       "      <td>30.0</td>\n",
       "    </tr>\n",
       "    <tr>\n",
       "      <th>24</th>\n",
       "      <td>38.0</td>\n",
       "    </tr>\n",
       "    <tr>\n",
       "      <th>25</th>\n",
       "      <td>27.0</td>\n",
       "    </tr>\n",
       "    <tr>\n",
       "      <th>26</th>\n",
       "      <td>63.0</td>\n",
       "    </tr>\n",
       "    <tr>\n",
       "      <th>27</th>\n",
       "      <td>34.0</td>\n",
       "    </tr>\n",
       "    <tr>\n",
       "      <th>28</th>\n",
       "      <td>45.0</td>\n",
       "    </tr>\n",
       "    <tr>\n",
       "      <th>29</th>\n",
       "      <td>47.0</td>\n",
       "    </tr>\n",
       "    <tr>\n",
       "      <th>...</th>\n",
       "      <td>...</td>\n",
       "    </tr>\n",
       "    <tr>\n",
       "      <th>970</th>\n",
       "      <td>43.0</td>\n",
       "    </tr>\n",
       "    <tr>\n",
       "      <th>971</th>\n",
       "      <td>34.0</td>\n",
       "    </tr>\n",
       "    <tr>\n",
       "      <th>972</th>\n",
       "      <td>45.0</td>\n",
       "    </tr>\n",
       "    <tr>\n",
       "      <th>973</th>\n",
       "      <td>47.0</td>\n",
       "    </tr>\n",
       "    <tr>\n",
       "      <th>974</th>\n",
       "      <td>34.0</td>\n",
       "    </tr>\n",
       "    <tr>\n",
       "      <th>975</th>\n",
       "      <td>48.0</td>\n",
       "    </tr>\n",
       "    <tr>\n",
       "      <th>976</th>\n",
       "      <td>32.0</td>\n",
       "    </tr>\n",
       "    <tr>\n",
       "      <th>977</th>\n",
       "      <td>36.0</td>\n",
       "    </tr>\n",
       "    <tr>\n",
       "      <th>978</th>\n",
       "      <td>35.0</td>\n",
       "    </tr>\n",
       "    <tr>\n",
       "      <th>979</th>\n",
       "      <td>28.0</td>\n",
       "    </tr>\n",
       "    <tr>\n",
       "      <th>980</th>\n",
       "      <td>55.0</td>\n",
       "    </tr>\n",
       "    <tr>\n",
       "      <th>981</th>\n",
       "      <td>45.0</td>\n",
       "    </tr>\n",
       "    <tr>\n",
       "      <th>982</th>\n",
       "      <td>47.0</td>\n",
       "    </tr>\n",
       "    <tr>\n",
       "      <th>983</th>\n",
       "      <td>33.0</td>\n",
       "    </tr>\n",
       "    <tr>\n",
       "      <th>984</th>\n",
       "      <td>19.0</td>\n",
       "    </tr>\n",
       "    <tr>\n",
       "      <th>985</th>\n",
       "      <td>32.0</td>\n",
       "    </tr>\n",
       "    <tr>\n",
       "      <th>986</th>\n",
       "      <td>31.0</td>\n",
       "    </tr>\n",
       "    <tr>\n",
       "      <th>987</th>\n",
       "      <td>34.0</td>\n",
       "    </tr>\n",
       "    <tr>\n",
       "      <th>988</th>\n",
       "      <td>36.0</td>\n",
       "    </tr>\n",
       "    <tr>\n",
       "      <th>989</th>\n",
       "      <td>31.0</td>\n",
       "    </tr>\n",
       "    <tr>\n",
       "      <th>990</th>\n",
       "      <td>36.0</td>\n",
       "    </tr>\n",
       "    <tr>\n",
       "      <th>991</th>\n",
       "      <td>39.0</td>\n",
       "    </tr>\n",
       "    <tr>\n",
       "      <th>992</th>\n",
       "      <td>19.0</td>\n",
       "    </tr>\n",
       "    <tr>\n",
       "      <th>993</th>\n",
       "      <td>54.0</td>\n",
       "    </tr>\n",
       "    <tr>\n",
       "      <th>994</th>\n",
       "      <td>57.0</td>\n",
       "    </tr>\n",
       "    <tr>\n",
       "      <th>995</th>\n",
       "      <td>34.0</td>\n",
       "    </tr>\n",
       "    <tr>\n",
       "      <th>996</th>\n",
       "      <td>33.0</td>\n",
       "    </tr>\n",
       "    <tr>\n",
       "      <th>997</th>\n",
       "      <td>40.0</td>\n",
       "    </tr>\n",
       "    <tr>\n",
       "      <th>998</th>\n",
       "      <td>36.0</td>\n",
       "    </tr>\n",
       "    <tr>\n",
       "      <th>999</th>\n",
       "      <td>53.0</td>\n",
       "    </tr>\n",
       "  </tbody>\n",
       "</table>\n",
       "<p>1000 rows × 1 columns</p>\n",
       "</div>"
      ],
      "text/plain": [
       "      Age\n",
       "0    43.0\n",
       "1    39.0\n",
       "2    34.0\n",
       "3    26.0\n",
       "4    35.0\n",
       "5    52.0\n",
       "6    35.0\n",
       "7    40.0\n",
       "8    45.0\n",
       "9    41.0\n",
       "10   38.0\n",
       "11   43.0\n",
       "12   50.0\n",
       "13   52.0\n",
       "14   36.0\n",
       "15   35.0\n",
       "16   33.0\n",
       "17   51.0\n",
       "18   36.0\n",
       "19   29.0\n",
       "20   39.0\n",
       "21   37.0\n",
       "22   31.0\n",
       "23   30.0\n",
       "24   38.0\n",
       "25   27.0\n",
       "26   63.0\n",
       "27   34.0\n",
       "28   45.0\n",
       "29   47.0\n",
       "..    ...\n",
       "970  43.0\n",
       "971  34.0\n",
       "972  45.0\n",
       "973  47.0\n",
       "974  34.0\n",
       "975  48.0\n",
       "976  32.0\n",
       "977  36.0\n",
       "978  35.0\n",
       "979  28.0\n",
       "980  55.0\n",
       "981  45.0\n",
       "982  47.0\n",
       "983  33.0\n",
       "984  19.0\n",
       "985  32.0\n",
       "986  31.0\n",
       "987  34.0\n",
       "988  36.0\n",
       "989  31.0\n",
       "990  36.0\n",
       "991  39.0\n",
       "992  19.0\n",
       "993  54.0\n",
       "994  57.0\n",
       "995  34.0\n",
       "996  33.0\n",
       "997  40.0\n",
       "998  36.0\n",
       "999  53.0\n",
       "\n",
       "[1000 rows x 1 columns]"
      ]
     },
     "execution_count": 14,
     "metadata": {},
     "output_type": "execute_result"
    }
   ],
   "source": [
    "df = pd.DataFrame({'Age':age.round(0)}) # creating dataframe using pandas\n",
    "#age will be the first variable\n",
    "#trial to see if it displays\n",
    "df"
   ]
  },
  {
   "cell_type": "code",
   "execution_count": null,
   "metadata": {},
   "outputs": [],
   "source": [
    "# reproducibility of results\n",
    "#male = 1, female = 2\n",
    "g = ([\"male\", \"female\"])\n",
    "#np.arange - choose number from 1 to 2 (higher number exclusive)\n",
    "#np.random.choice allows size of dataset and determine probability of each number in a\n",
    "gender = np.random.choice(g, size=1000, p=[0.66, 0.34]) #refer to reference 8"
   ]
  },
  {
   "cell_type": "code",
   "execution_count": null,
   "metadata": {},
   "outputs": [],
   "source": [
    "plt.hist(gender)"
   ]
  },
  {
   "cell_type": "code",
   "execution_count": null,
   "metadata": {},
   "outputs": [],
   "source": [
    "# reproducibility of results\n",
    "#Leinster = 1, munster = 3, ulster = 2, connachcht = 4\n",
    "#np.arange - choose number from 1 to 4 (higher number exclusive)\n",
    "#np.random.choice allows size of dataset and determine probability of each number in a\n",
    "province = ([\"Munster\", \"Leinster\", \"Ulster\", \"Connacht\"])\n",
    "location = np.random.choice(province, size=1000, p=[0.2, 0.4, 0.2, 0.2])"
   ]
  },
  {
   "cell_type": "code",
   "execution_count": null,
   "metadata": {},
   "outputs": [],
   "source": [
    "plt.hist(location)\n",
    "plt.ylabel(\"Number of Times\") #y label\n",
    "plt.xlabel(\"Location\") # x label\n",
    "plt.title(\"Male vs Female Penalty Points\") # title\n",
    "plt.show() # display"
   ]
  },
  {
   "cell_type": "code",
   "execution_count": null,
   "metadata": {},
   "outputs": [],
   "source": [
    "# reproducibility of results\n",
    "#Speeding = 1, phone = 2,  no seat belt = 3, drink driving = 4\n",
    "#np.arange - choose number from 1 to 4 (higher number exclusive)\n",
    "#np.random.choice allows size of dataset and determine probability of each number in a\n",
    "reason_pp = np.random.choice(np.arange(0, 5), size=1000, p=[0, 0.75, 0.17, 0.06, 0.02])"
   ]
  },
  {
   "cell_type": "code",
   "execution_count": null,
   "metadata": {},
   "outputs": [],
   "source": [
    "plt.hist(reason_pp)\n",
    "plt.ylabel(\"Number of Times\") #y label\n",
    "plt.xlabel(\"Cause of penalty point endorsment\") # x label\n",
    "plt.title(\"Breakdown of Penalty Points by cause\") # title\n",
    "plt.xticks([1.12, 2.12, 3.0, 4.0], [\"Speeding\", \"Phone Usage\", \"No Seat Belt\", \"Drink Driving\"]) # set label for male and female\n",
    "plt.show() # display"
   ]
  },
  {
   "cell_type": "code",
   "execution_count": null,
   "metadata": {},
   "outputs": [],
   "source": [
    "#np.arange - choose number from 1 to 4 (higher number exclusive)\n",
    "#np.random.choice allows size of dataset and determine probability of each number in a\n",
    "total_points = np.random.choice(np.arange(1, 13).round(0), size=1000, p=[0.01, 0.07, 0.65, 0.02, 0.08, 0.1, 0.01, 0.01, 0.02, 0.01, 0.01, 0.01])"
   ]
  },
  {
   "cell_type": "code",
   "execution_count": null,
   "metadata": {},
   "outputs": [],
   "source": [
    "p = np.random.standard_normal(3)\n",
    "p"
   ]
  },
  {
   "cell_type": "code",
   "execution_count": null,
   "metadata": {},
   "outputs": [],
   "source": [
    "sns.distplot(total_points)"
   ]
  },
  {
   "cell_type": "code",
   "execution_count": null,
   "metadata": {},
   "outputs": [],
   "source": [
    "np.random.seed(11) # reproducibility of results\n",
    "#np.arange - choose number from 1 to 4 (higher number exclusive)\n",
    "#np.random.choice allows size of dataset and determine probability of each number in a\n",
    "accidents = np.random.triangular(0, 3.5,5, size=1000).round(0)\n",
    "# on average a person will be in 3/4 accidents reference 11"
   ]
  },
  {
   "cell_type": "code",
   "execution_count": null,
   "metadata": {},
   "outputs": [],
   "source": [
    "sns.distplot(accidents)"
   ]
  },
  {
   "cell_type": "code",
   "execution_count": null,
   "metadata": {},
   "outputs": [],
   "source": [
    "df = pd.DataFrame({'Age':age.round(0), \"Gender\":gender, \"Location\":location, \"Reason\":reason_pp, \"Total Points\":total_points, \"Accidents\":accidents.round(0)}) # create dataframe# create dataframe\n",
    "df[\"Location\"].replace({1:\"Leinster\", 2:\"Ulster\", 3:\"Munster\", 4:\"Connacht\"}, inplace=True)\n",
    "df[\"Gender\"].replace({1:'Male', 2:'Female'}, inplace=True) # replace number 1 with Male & number 2 with female\n",
    "df[\"Reason\"].replace({1:\"Speeding\", 2:\"Phone\", 3:\"No Seatbelt\", 4:\"Drink Driving\"}, inplace=True) \n",
    "df[\"Total Points\"].replace({1:\"1\", 2:\"2\", 3:\"3\", 4:\"4\", 5:\"5\", 6:\"6\", 7:\"7 \", 8:\"8\", 9:\"9\", 10:\"10\", 11:\"11\", 12:\"12\"}, inplace=False)\n",
    "df[\"Accidents\"].replace({1:\"0\", 2:\"1\", 3:\"2\", 4:\"3\", 5:\"4\", 6:\"5\"}, inplace=False)\n",
    "df"
   ]
  },
  {
   "cell_type": "markdown",
   "metadata": {},
   "source": [
    "#### Overview of the dataset\n",
    "Dataset dimensions.\n",
    "\n",
    "By using the shape property we can get a quick idea of how many rows and how many attributes columns the data contains. When the dataset is created with pandas, it gives the dataset dimensions at the end of the table.\n",
    "\n",
    "This df.shape can be used to verify it is correct."
   ]
  },
  {
   "cell_type": "code",
   "execution_count": null,
   "metadata": {},
   "outputs": [],
   "source": [
    "print(\"Rows x Columns:\", df.shape) # 159000 rows and 4 columns. The same as it sa"
   ]
  },
  {
   "cell_type": "markdown",
   "metadata": {},
   "source": [
    "#### Glance at the data\n",
    "By glancing at the data using the head, tail and sample functions it is possible to eyeball the data"
   ]
  },
  {
   "cell_type": "code",
   "execution_count": null,
   "metadata": {},
   "outputs": [],
   "source": [
    "df.head() # prints out first 5 rows of dataset\n",
    "# no input = 5 (default)"
   ]
  },
  {
   "cell_type": "code",
   "execution_count": null,
   "metadata": {},
   "outputs": [],
   "source": [
    "df.tail() #prints last 5 rows of dataset (default)"
   ]
  },
  {
   "cell_type": "code",
   "execution_count": null,
   "metadata": {},
   "outputs": [],
   "source": [
    "df.sample(15) # view 5 random rows of dataset"
   ]
  },
  {
   "cell_type": "markdown",
   "metadata": {},
   "source": [
    "By using these simple functions it is easy to do a overview comparision for each of the variables of the data between each of the variables. These functions do not really tell us any valubale information but is more so to familarise us with the dataset."
   ]
  },
  {
   "cell_type": "markdown",
   "metadata": {},
   "source": [
    "#### Statistical Summary\n",
    "There are two methods in which you can view a summary of the dataset. The first method is using the describe function in pandas which will output a table with a statistical overview of the data. It is also possible to obtain all the same information by using each individual built in functions such as:\n",
    "\n",
    "* df.min()\n",
    "* df.max()\n",
    "* df.mean()"
   ]
  },
  {
   "cell_type": "code",
   "execution_count": null,
   "metadata": {},
   "outputs": [],
   "source": [
    "df.describe() # statistical analysis of numerical variables"
   ]
  },
  {
   "cell_type": "markdown",
   "metadata": {},
   "source": [
    "Average amount on peoples license is nearly 4 points while just pver 1 person has been involved in an accident. While the average amount of accidents a person will be in their lifetime is 3-4 accidents. The mean result from this simulatation is relevant as there is a broad age group in this dataset."
   ]
  },
  {
   "cell_type": "code",
   "execution_count": null,
   "metadata": {},
   "outputs": [],
   "source": [
    "plt.figure(figsize = (10, 7)) #plot size\n",
    "x = df[\"Accidents\"] # show tip column only\n",
    "\n",
    "# colour of the histogram, range, layout \n",
    "plt.hist(x, color = \"skyblue\", density=False, bins=20, rwidth=0.8) \n",
    "#title of histogram\n",
    "plt.title(\"Histogram showing number of Accidents \")\n",
    "#x axis label \n",
    "plt.xlabel(\"Accidents\") \n",
    "#y axis label\n",
    "plt.ylabel(\"Number of Accidnts\")\n",
    "#show gridlines\n",
    "plt.grid()\n",
    "#display plot\n",
    "plt.show()"
   ]
  },
  {
   "cell_type": "code",
   "execution_count": null,
   "metadata": {},
   "outputs": [],
   "source": [
    "plt.figure(figsize = (10, 7)) #plot size\n",
    "x = df[\"Total Points\"] # show tip column only\n",
    "\n",
    "# colour of the histogram, range, layout \n",
    "plt.hist(x, color = \"green\", density=False, bins=20, rwidth=0.8) \n",
    "#title of histogram\n",
    "plt.title(\"Histogram showing Total Points on License\")\n",
    "#x axis label \n",
    "plt.xlabel(\"Points\") \n",
    "#y axis label\n",
    "plt.ylabel(\"Number of People\")\n",
    "#show gridlines\n",
    "plt.grid()\n",
    "#display plot\n",
    "plt.show()"
   ]
  },
  {
   "cell_type": "markdown",
   "metadata": {},
   "source": [
    "### Examine Gender Variable"
   ]
  },
  {
   "cell_type": "code",
   "execution_count": null,
   "metadata": {},
   "outputs": [],
   "source": [
    "##groupby allows to analyse each column separately/view certain columns together\n",
    "df.groupby(\"Gender\").size()"
   ]
  },
  {
   "cell_type": "markdown",
   "metadata": {},
   "source": [
    "Based off research, we know that men historically have more penalty points that women and that is no different in this simulation. Men recieved approximately two times more penalty point endorsement notices compared to females."
   ]
  },
  {
   "cell_type": "code",
   "execution_count": null,
   "metadata": {},
   "outputs": [],
   "source": [
    "#groupby allows to analyse each column separately/view certain columns together\n",
    "df.groupby(\"Gender\").sum() # sum of numerical variables for Gender"
   ]
  },
  {
   "cell_type": "markdown",
   "metadata": {},
   "source": [
    "The main thing to show here is that males have recieved more penalty points and been involved in more accidents which both align with real life. According to statistics in the US, males drive 40 percent more miles that females each year which increases their likely hood of bring in a car accident but also are more prone to more aggressive driving than females resulting in the high numbers. [(12. Car Accidents)](https://www.trafficsafetystore.com/blog/who-causes-accidents/)"
   ]
  },
  {
   "cell_type": "code",
   "execution_count": null,
   "metadata": {},
   "outputs": [],
   "source": []
  },
  {
   "cell_type": "code",
   "execution_count": null,
   "metadata": {},
   "outputs": [],
   "source": []
  },
  {
   "cell_type": "code",
   "execution_count": null,
   "metadata": {},
   "outputs": [],
   "source": []
  },
  {
   "cell_type": "code",
   "execution_count": null,
   "metadata": {},
   "outputs": [],
   "source": []
  },
  {
   "cell_type": "code",
   "execution_count": null,
   "metadata": {},
   "outputs": [],
   "source": []
  },
  {
   "cell_type": "code",
   "execution_count": null,
   "metadata": {},
   "outputs": [],
   "source": []
  },
  {
   "cell_type": "code",
   "execution_count": null,
   "metadata": {},
   "outputs": [],
   "source": []
  },
  {
   "cell_type": "code",
   "execution_count": null,
   "metadata": {},
   "outputs": [],
   "source": []
  },
  {
   "cell_type": "code",
   "execution_count": null,
   "metadata": {},
   "outputs": [],
   "source": []
  },
  {
   "cell_type": "code",
   "execution_count": null,
   "metadata": {},
   "outputs": [],
   "source": []
  },
  {
   "cell_type": "markdown",
   "metadata": {},
   "source": [
    "### References\n",
    "\n",
    "1. http://www-ist.massey.ac.nz/dstirlin/CAST/CAST/Hstructures/structures_c2.html\n",
    "\n",
    "2. https://docs.scipy.org/doc/numpy-1.14.0/reference/routines.random.html\n",
    "\n",
    "3. https://docs.scipy.org/doc/numpy-1.14.1/reference/generated/numpy.random.triangular.html\n",
    "\n",
    "4. https://www.rsa.ie/en/RSA/Licensed-Drivers/Penalty-points/How-it-works-why-it-matters/\n",
    "\n",
    "5. https://www.rsa.ie/en/RSA/Licensed-Drivers/Penalty-points/StrategyRegulations/\n",
    "\n",
    "6. https://www.cso.ie/en/releasesandpublications/ep/p-tranom/transportomnibus2017/penaltypoints/\n",
    "\n",
    "7. https://www.geeksforgeeks.org/different-ways-to-create-pandas-dataframe/\n",
    "\n",
    "8. https://docs.scipy.org/doc/numpy-1.13.0/reference/generated/numpy.random.choice.html\n",
    "\n",
    "9. https://pandas.pydata.org/pandas-docs/stable/reference/api/pandas.DataFrame.replace.html\n",
    "\n",
    "10. https://www.psni.police.uk/globalassets/inside-the-psni/our-statistics/motoring-offences-statistics/2017/motoring-offences-2017-annual-report.pdf\n",
    "\n",
    "11. https://www.forbes.com/sites/moneybuilder/2011/07/27/how-many-times-will-you-crash-your-car/#63fbc784e621\n",
    "\n",
    "12. Traffic Safety Store, 2017, Who Causes More Car Accidents? The Data May Surprise You, Viewed on 15 Dec 19 [https://www.trafficsafetystore.com/blog/who-causes-accidents/]"
   ]
  },
  {
   "cell_type": "code",
   "execution_count": null,
   "metadata": {},
   "outputs": [],
   "source": []
  },
  {
   "cell_type": "code",
   "execution_count": null,
   "metadata": {},
   "outputs": [],
   "source": []
  },
  {
   "cell_type": "code",
   "execution_count": null,
   "metadata": {},
   "outputs": [],
   "source": []
  }
 ],
 "metadata": {
  "kernelspec": {
   "display_name": "Python 3",
   "language": "python",
   "name": "python3"
  },
  "language_info": {
   "codemirror_mode": {
    "name": "ipython",
    "version": 3
   },
   "file_extension": ".py",
   "mimetype": "text/x-python",
   "name": "python",
   "nbconvert_exporter": "python",
   "pygments_lexer": "ipython3",
   "version": "3.7.1"
  }
 },
 "nbformat": 4,
 "nbformat_minor": 2
}
