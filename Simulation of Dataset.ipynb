{
 "cells": [
  {
   "cell_type": "markdown",
   "metadata": {},
   "source": [
    "## Programming for Data Analysis Project 2019\n",
    "#### By Kevin Dooley"
   ]
  },
  {
   "cell_type": "markdown",
   "metadata": {},
   "source": [
    "### Simulation of Real World Phenonenom - Penalty Points in Ireland"
   ]
  },
  {
   "cell_type": "markdown",
   "metadata": {},
   "source": [
    "Foundation of Project and Real life Statistics\n",
    "\n",
    "#### Background\n",
    "The penalty points system for driving offences was introduced in Ireland with the aim to improve driver behaviour and reduce the levels of death and serious injury on our roads. A penalty point is a formal reprimand by the Gardai on your driving license record that shows you are guilty of specific driving offences. There are a total of 63 road offences that can attract penalty points.\n",
    "\n",
    "By obtaining penalty points on your license you recieve a fine and depending on the road offence, may be required to appear in court. It is a requirement to notify your insurance company of any road traffic offences also at which stage your insurance company may opt to increase the drivers premium. All these are hefty consequences in place for motorists who do not abide by the rules of the road. Penalty points while are there to try improve the saftey on our roads.\n",
    "[(3. Penalty Points Background)](https://www.rsa.ie/en/RSA/Licensed-Drivers/Penalty-points/How-it-works-why-it-matters/)\n",
    "\n",
    "#### How does the system work\n",
    "Penalty Points are recorded on your licesne if you are convicted of a driving offence. Each offence carries a different point value depening on the severity of the offence. Any driver accumulating 12 penalty points within any given three-year period will be automatically disqualified from driving for six months. A lower threshold of 7 penalty points leading to disqualification applies to any driver on a learner permit. [(3. Penalty Points Background)](https://www.rsa.ie/en/RSA/Licensed-Drivers/Penalty-points/How-it-works-why-it-matters/)\n",
    "\n",
    "### Improve Irish Roads Strategy\n",
    "Ireland’s road safety record has continually improved over the past number of years. There was a 16% decrease in the number of fatal accidents in Ireland in 2017 compared to 2016, of which penalty points played an important role. The penalty points system has played an important role in this by incentivising drivers to modify their behaviour and drive more safely. The penalty point is used in conjuction with the 'Closing the Gap' Strategy to make Ireland’s roads as safe as the best performing countries in the world.\n",
    "While the penalty points system has proved to have been an effective deterrent in changing road users’ behaviour for the better over the past decade. It must be consistently reviewed and updated to ensure it is an effective system and established mitigations against new driver behaviour. [(4. Road Stategies)](https://www.rsa.ie/en/RSA/Licensed-Drivers/Penalty-points/StrategyRegulations/)\n",
    "\n",
    "Tthe penalty points system plays an important role in road safety by incentivising drivers to modify their behaviour and drive more safely."
   ]
  },
  {
   "cell_type": "code",
   "execution_count": null,
   "metadata": {},
   "outputs": [],
   "source": []
  },
  {
   "cell_type": "markdown",
   "metadata": {},
   "source": [
    "This project is to simulate a real world phenonenom and complete a summary on it.\n",
    "\n",
    "I am choosing : Instances of penalty points in ireland in 2017. I will examine 4 variables\n",
    "* Gender (Male/Female)\n",
    "* Age (17-85)\n",
    "* Location (Leinster, Munster, Ulster, Connacht)\n",
    "* Cause of Penalty Points (Speeding, Mobile Phone Use, No insurance, No seatbelt)\n",
    "\n",
    "Defining what each variable in the dataset:\n",
    "1. Gender - nominal\n",
    "2. Age - continuous numerical variable\n",
    "3. Location of Accident - nominal\n",
    "4. Cause of Penalty Points - nominal\n",
    "\n",
    "The reason I have selected the above variables is because I feel there is substantial information avaialble to base my workings off. Car accidents are unfortunately common in Ireland and can be affected by any number of factors. The issuance of penalties points by government regulated bodies such as An Garda Siochana given an insight to how obedient we are to the roads. Even though the information I will be providing throughout this dataset is randomly simulated, I will be referencing real life instances and statistics.\n",
    "\n",
    "As per the above I have categorised each of my variables. Based off my research, I classified 'Age' as a continuous numerical variable because it contains numerous values within a given range. I decided to define  3 variables as nominal variables because it does not matter which way the categories are ordered, whhether it be in tabular or graphical displays - all orderings are equally meaningful.[(1. Variable Categories)](http://www-ist.massey.ac.nz/dstirlin/CAST/CAST/Hstructures/structures_c2.html).\n",
    "\n",
    "\n",
    "As per the requirements of the assignment, the dataset must include a minimum of 100 datapoints. To do this I used the numpy.random package in numpy. [(2. Numpy.random)](https://docs.scipy.org/doc/numpy-1.14.0/reference/routines.random.html). I will use this package to randomly generate a dataset to represent the number of penalty points issued in Ireland in 2017, 159000. In total, just over 189000 points were issued but in 30000 cases the gender was not recorded therefore I have omitted that from my simulation. The age range for the dataset which will be 17 to 85 because you cannot drive until you are 17 in Ireland and there are few drivers over the age of 85 in Ireland. Gender, area of issuance of the penalty points and cause of issuance will all be examined in this simulation."
   ]
  },
  {
   "cell_type": "markdown",
   "metadata": {},
   "source": [
    "In 2017:\n",
    "* 68% Speeding\n",
    "* 13% Mobile\n",
    "* 19% Other"
   ]
  },
  {
   "cell_type": "code",
   "execution_count": 10,
   "metadata": {},
   "outputs": [],
   "source": [
    "import pandas as pd #imports Pandas library \n",
    "import numpy as np #imports NumPy package\n",
    "import seaborn as sns #imports Seaborn package\n",
    "import matplotlib.pyplot as plt #imports Matplotlib library\n",
    "%matplotlib inline # inline"
   ]
  },
  {
   "cell_type": "code",
   "execution_count": 18,
   "metadata": {},
   "outputs": [
    {
     "data": {
      "text/plain": [
       "<function matplotlib.pyplot.show(*args, **kw)>"
      ]
     },
     "execution_count": 18,
     "metadata": {},
     "output_type": "execute_result"
    },
    {
     "data": {
      "image/png": "[encoded data removed]",
      "text/plain": [
       "<Figure size 432x288 with 1 Axes>"
      ]
     },
     "metadata": {
      "needs_background": "light"
     },
     "output_type": "display_data"
    }
   ],
   "source": [
    "np.random.seed(11) # for reproducability so can test simulation\n",
    "age = np.random.triangular(17, 38, 85, 159000) # lower, mean, higher parameters of data\n",
    "# you can set the shape of the distribution using random.triangular\n",
    "# based of review of CSO, I determined approx mean age for most penalty points was 45 years old\n",
    "plt.xlabel(\"Age (years)\") # x label\n",
    "plt.ylabel(\"Number of people\") # y label\n",
    "plt.title(\"Penalty points distribution between age groups\") # title\n",
    "plt.hist(age) # histogram\n",
    "plt.show # display plot"
   ]
  },
  {
   "cell_type": "code",
   "execution_count": null,
   "metadata": {},
   "outputs": [],
   "source": []
  },
  {
   "cell_type": "code",
   "execution_count": null,
   "metadata": {},
   "outputs": [],
   "source": []
  },
  {
   "cell_type": "code",
   "execution_count": null,
   "metadata": {},
   "outputs": [],
   "source": []
  },
  {
   "cell_type": "code",
   "execution_count": null,
   "metadata": {},
   "outputs": [],
   "source": []
  },
  {
   "cell_type": "code",
   "execution_count": null,
   "metadata": {},
   "outputs": [],
   "source": []
  },
  {
   "cell_type": "markdown",
   "metadata": {},
   "source": [
    "### References\n",
    "\n",
    "1. http://www-ist.massey.ac.nz/dstirlin/CAST/CAST/Hstructures/structures_c2.html\n",
    "\n",
    "2. https://docs.scipy.org/doc/numpy-1.14.0/reference/routines.random.html\n",
    "\n",
    "3. https://docs.scipy.org/doc/numpy-1.14.1/reference/generated/numpy.random.triangular.html\n",
    "\n",
    "4. https://www.rsa.ie/en/RSA/Licensed-Drivers/Penalty-points/How-it-works-why-it-matters/\n",
    "\n",
    "5. https://www.rsa.ie/en/RSA/Licensed-Drivers/Penalty-points/StrategyRegulations/"
   ]
  },
  {
   "cell_type": "code",
   "execution_count": null,
   "metadata": {},
   "outputs": [],
   "source": []
  }
 ],
 "metadata": {
  "kernelspec": {
   "display_name": "Python 3",
   "language": "python",
   "name": "python3"
  },
  "language_info": {
   "codemirror_mode": {
    "name": "ipython",
    "version": 3
   },
   "file_extension": ".py",
   "mimetype": "text/x-python",
   "name": "python",
   "nbconvert_exporter": "python",
   "pygments_lexer": "ipython3",
   "version": "3.7.1"
  }
 },
 "nbformat": 4,
 "nbformat_minor": 2
}
